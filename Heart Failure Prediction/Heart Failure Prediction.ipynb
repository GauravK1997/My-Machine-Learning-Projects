{
 "cells": [
  {
   "cell_type": "markdown",
   "id": "e8ab22e5",
   "metadata": {},
   "source": [
    "# Problem Statement :\n",
    "\n",
    "## The following data contains various health factors of patients. Our goal is to create a model to predict whether a patient has Heart disease or not"
   ]
  },
  {
   "cell_type": "code",
   "execution_count": 1,
   "id": "through-fabric",
   "metadata": {},
   "outputs": [],
   "source": [
    "import numpy as np\n",
    "import pandas as pd\n",
    "import matplotlib.pyplot as plt\n",
    "%matplotlib inline\n",
    "import seaborn as sns\n",
    "\n",
    "from sklearn.model_selection import train_test_split\n",
    "from sklearn.preprocessing import StandardScaler\n",
    "\n",
    "# Models\n",
    "from sklearn.linear_model import LogisticRegression\n",
    "from sklearn.tree import DecisionTreeClassifier\n",
    "from sklearn.ensemble import RandomForestClassifier, GradientBoostingClassifier, GradientBoostingClassifier, AdaBoostClassifier\n",
    "from sklearn.svm import SVC\n",
    "from sklearn.naive_bayes import GaussianNB\n",
    "from sklearn.neighbors import KNeighborsClassifier"
   ]
  },
  {
   "cell_type": "code",
   "execution_count": 2,
   "id": "grand-activity",
   "metadata": {},
   "outputs": [
    {
     "data": {
      "text/html": [
       "<div>\n",
       "<style scoped>\n",
       "    .dataframe tbody tr th:only-of-type {\n",
       "        vertical-align: middle;\n",
       "    }\n",
       "\n",
       "    .dataframe tbody tr th {\n",
       "        vertical-align: top;\n",
       "    }\n",
       "\n",
       "    .dataframe thead th {\n",
       "        text-align: right;\n",
       "    }\n",
       "</style>\n",
       "<table border=\"1\" class=\"dataframe\">\n",
       "  <thead>\n",
       "    <tr style=\"text-align: right;\">\n",
       "      <th></th>\n",
       "      <th>age</th>\n",
       "      <th>sex</th>\n",
       "      <th>cp</th>\n",
       "      <th>trestbps</th>\n",
       "      <th>chol</th>\n",
       "      <th>fbs</th>\n",
       "      <th>restecg</th>\n",
       "      <th>thalach</th>\n",
       "      <th>exang</th>\n",
       "      <th>oldpeak</th>\n",
       "      <th>slope</th>\n",
       "      <th>ca</th>\n",
       "      <th>thal</th>\n",
       "      <th>target</th>\n",
       "    </tr>\n",
       "  </thead>\n",
       "  <tbody>\n",
       "    <tr>\n",
       "      <th>0</th>\n",
       "      <td>63</td>\n",
       "      <td>1</td>\n",
       "      <td>3</td>\n",
       "      <td>145</td>\n",
       "      <td>233</td>\n",
       "      <td>1</td>\n",
       "      <td>0</td>\n",
       "      <td>150</td>\n",
       "      <td>0</td>\n",
       "      <td>2.3</td>\n",
       "      <td>0</td>\n",
       "      <td>0</td>\n",
       "      <td>1</td>\n",
       "      <td>1</td>\n",
       "    </tr>\n",
       "    <tr>\n",
       "      <th>1</th>\n",
       "      <td>37</td>\n",
       "      <td>1</td>\n",
       "      <td>2</td>\n",
       "      <td>130</td>\n",
       "      <td>250</td>\n",
       "      <td>0</td>\n",
       "      <td>1</td>\n",
       "      <td>187</td>\n",
       "      <td>0</td>\n",
       "      <td>3.5</td>\n",
       "      <td>0</td>\n",
       "      <td>0</td>\n",
       "      <td>2</td>\n",
       "      <td>1</td>\n",
       "    </tr>\n",
       "    <tr>\n",
       "      <th>2</th>\n",
       "      <td>41</td>\n",
       "      <td>0</td>\n",
       "      <td>1</td>\n",
       "      <td>130</td>\n",
       "      <td>204</td>\n",
       "      <td>0</td>\n",
       "      <td>0</td>\n",
       "      <td>172</td>\n",
       "      <td>0</td>\n",
       "      <td>1.4</td>\n",
       "      <td>2</td>\n",
       "      <td>0</td>\n",
       "      <td>2</td>\n",
       "      <td>1</td>\n",
       "    </tr>\n",
       "    <tr>\n",
       "      <th>3</th>\n",
       "      <td>56</td>\n",
       "      <td>1</td>\n",
       "      <td>1</td>\n",
       "      <td>120</td>\n",
       "      <td>236</td>\n",
       "      <td>0</td>\n",
       "      <td>1</td>\n",
       "      <td>178</td>\n",
       "      <td>0</td>\n",
       "      <td>0.8</td>\n",
       "      <td>2</td>\n",
       "      <td>0</td>\n",
       "      <td>2</td>\n",
       "      <td>1</td>\n",
       "    </tr>\n",
       "    <tr>\n",
       "      <th>4</th>\n",
       "      <td>57</td>\n",
       "      <td>0</td>\n",
       "      <td>0</td>\n",
       "      <td>120</td>\n",
       "      <td>354</td>\n",
       "      <td>0</td>\n",
       "      <td>1</td>\n",
       "      <td>163</td>\n",
       "      <td>1</td>\n",
       "      <td>0.6</td>\n",
       "      <td>2</td>\n",
       "      <td>0</td>\n",
       "      <td>2</td>\n",
       "      <td>1</td>\n",
       "    </tr>\n",
       "  </tbody>\n",
       "</table>\n",
       "</div>"
      ],
      "text/plain": [
       "   age  sex  cp  trestbps  chol  fbs  restecg  thalach  exang  oldpeak  slope  \\\n",
       "0   63    1   3       145   233    1        0      150      0      2.3      0   \n",
       "1   37    1   2       130   250    0        1      187      0      3.5      0   \n",
       "2   41    0   1       130   204    0        0      172      0      1.4      2   \n",
       "3   56    1   1       120   236    0        1      178      0      0.8      2   \n",
       "4   57    0   0       120   354    0        1      163      1      0.6      2   \n",
       "\n",
       "   ca  thal  target  \n",
       "0   0     1       1  \n",
       "1   0     2       1  \n",
       "2   0     2       1  \n",
       "3   0     2       1  \n",
       "4   0     2       1  "
      ]
     },
     "execution_count": 2,
     "metadata": {},
     "output_type": "execute_result"
    }
   ],
   "source": [
    "df = pd.read_csv('heart.csv')\n",
    "df.head()"
   ]
  },
  {
   "cell_type": "code",
   "execution_count": 3,
   "id": "ca58e27a",
   "metadata": {},
   "outputs": [
    {
     "data": {
      "text/plain": [
       "(303, 14)"
      ]
     },
     "execution_count": 3,
     "metadata": {},
     "output_type": "execute_result"
    }
   ],
   "source": [
    "df.shape"
   ]
  },
  {
   "cell_type": "code",
   "execution_count": 4,
   "id": "05a54946",
   "metadata": {},
   "outputs": [
    {
     "data": {
      "text/plain": [
       "array([1, 0], dtype=int64)"
      ]
     },
     "execution_count": 4,
     "metadata": {},
     "output_type": "execute_result"
    }
   ],
   "source": [
    "df['target'].unique()"
   ]
  },
  {
   "cell_type": "code",
   "execution_count": 5,
   "id": "4f32140b",
   "metadata": {},
   "outputs": [
    {
     "data": {
      "text/plain": [
       "2"
      ]
     },
     "execution_count": 5,
     "metadata": {},
     "output_type": "execute_result"
    }
   ],
   "source": [
    "len(df['target'].unique())"
   ]
  },
  {
   "cell_type": "code",
   "execution_count": 6,
   "id": "523058c3",
   "metadata": {},
   "outputs": [],
   "source": [
    "data = df.copy()"
   ]
  },
  {
   "cell_type": "markdown",
   "id": "6369133b",
   "metadata": {},
   "source": [
    "# Preprocessing"
   ]
  },
  {
   "cell_type": "code",
   "execution_count": 7,
   "id": "proper-preview",
   "metadata": {},
   "outputs": [
    {
     "data": {
      "text/plain": [
       "age         0\n",
       "sex         0\n",
       "cp          0\n",
       "trestbps    0\n",
       "chol        0\n",
       "fbs         0\n",
       "restecg     0\n",
       "thalach     0\n",
       "exang       0\n",
       "oldpeak     0\n",
       "slope       0\n",
       "ca          0\n",
       "thal        0\n",
       "target      0\n",
       "dtype: int64"
      ]
     },
     "execution_count": 7,
     "metadata": {},
     "output_type": "execute_result"
    }
   ],
   "source": [
    "data.isnull().sum()"
   ]
  },
  {
   "cell_type": "markdown",
   "id": "83b3318e",
   "metadata": {},
   "source": [
    "### No null values present within the dataset"
   ]
  },
  {
   "cell_type": "markdown",
   "id": "9d32a947",
   "metadata": {},
   "source": [
    "## Exploratory Data Analysis (EDA)"
   ]
  },
  {
   "cell_type": "markdown",
   "id": "c1ad8a0d",
   "metadata": {},
   "source": [
    "## Correlation Heatmap"
   ]
  },
  {
   "cell_type": "code",
   "execution_count": 8,
   "id": "4c7a0594",
   "metadata": {},
   "outputs": [
    {
     "data": {
      "image/png": "[encoded data removed]",
      "text/plain": [
       "<Figure size 864x648 with 2 Axes>"
      ]
     },
     "metadata": {
      "needs_background": "light"
     },
     "output_type": "display_data"
    }
   ],
   "source": [
    "corr = data.corr()\n",
    "\n",
    "plt.figure(figsize=(12, 9))\n",
    "sns.heatmap(corr, annot=True, cmap='RdYlGn')\n",
    "plt.show()"
   ]
  },
  {
   "cell_type": "markdown",
   "id": "256bac1e",
   "metadata": {},
   "source": [
    "### There isn't much correlation among the I/p features"
   ]
  },
  {
   "cell_type": "markdown",
   "id": "c7235e6c",
   "metadata": {},
   "source": [
    "## Outliers"
   ]
  },
  {
   "cell_type": "code",
   "execution_count": 9,
   "id": "e04eae0c",
   "metadata": {},
   "outputs": [
    {
     "data": {
      "image/png": "[encoded data removed]",
      "text/plain": [
       "<Figure size 720x576 with 1 Axes>"
      ]
     },
     "metadata": {
      "needs_background": "light"
     },
     "output_type": "display_data"
    }
   ],
   "source": [
    "plt.figure(figsize=(10, 8))\n",
    "\n",
    "data.boxplot()\n",
    "plt.show()"
   ]
  },
  {
   "cell_type": "markdown",
   "id": "6a87dd29",
   "metadata": {},
   "source": [
    "## Features with outliers :\n",
    "\n",
    "1) 'chol'\n",
    "\n",
    "2) 'trestbps'\n",
    "\n",
    "3) 'thalach'"
   ]
  },
  {
   "cell_type": "markdown",
   "id": "837af9d0",
   "metadata": {},
   "source": [
    "### 1) chol"
   ]
  },
  {
   "cell_type": "code",
   "execution_count": 10,
   "id": "e9c20c6c",
   "metadata": {},
   "outputs": [
    {
     "data": {
      "image/png": "[encoded data removed]",
      "text/plain": [
       "<Figure size 432x288 with 1 Axes>"
      ]
     },
     "metadata": {
      "needs_background": "light"
     },
     "output_type": "display_data"
    }
   ],
   "source": [
    "data['chol'].hist(bins=50)\n",
    "plt.show()"
   ]
  },
  {
   "cell_type": "markdown",
   "id": "f3a37d1e",
   "metadata": {},
   "source": [
    "#### The feature 'chol' follows a Normal Distribution; hence we use *3 Sigma method* to handle the outliers"
   ]
  },
  {
   "cell_type": "code",
   "execution_count": 11,
   "id": "900816a9",
   "metadata": {},
   "outputs": [],
   "source": [
    "def handle_outliers(df, variable):\n",
    "    upper_boundary = df[variable].mean() + 3 * df[variable].std()\n",
    "    lower_boundary = df[variable].mean() - 3 * df[variable].std()\n",
    "    \n",
    "    df.loc[df[variable] >= upper_boundary, variable] = upper_boundary\n",
    "\n",
    "    df.loc[df[variable] <= lower_boundary, variable] = lower_boundary"
   ]
  },
  {
   "cell_type": "code",
   "execution_count": 12,
   "id": "e2f634fa",
   "metadata": {},
   "outputs": [],
   "source": [
    "handle_outliers(data, 'chol')"
   ]
  },
  {
   "cell_type": "code",
   "execution_count": 13,
   "id": "99c88a84",
   "metadata": {},
   "outputs": [
    {
     "data": {
      "image/png": "[encoded data removed]",
      "text/plain": [
       "<Figure size 432x288 with 1 Axes>"
      ]
     },
     "metadata": {
      "needs_background": "light"
     },
     "output_type": "display_data"
    }
   ],
   "source": [
    "data['chol'].hist(bins=50)\n",
    "plt.show()"
   ]
  },
  {
   "cell_type": "markdown",
   "id": "d212a8c9",
   "metadata": {},
   "source": [
    "### 2) trestbps"
   ]
  },
  {
   "cell_type": "code",
   "execution_count": 14,
   "id": "cbd3f7a4",
   "metadata": {},
   "outputs": [
    {
     "data": {
      "image/png": "[encoded data removed]",
      "text/plain": [
       "<Figure size 432x288 with 1 Axes>"
      ]
     },
     "metadata": {
      "needs_background": "light"
     },
     "output_type": "display_data"
    }
   ],
   "source": [
    "data['trestbps'].hist(bins=50)\n",
    "plt.show()"
   ]
  },
  {
   "cell_type": "markdown",
   "id": "5456b5b2",
   "metadata": {},
   "source": [
    "#### The feature 'trestbps' follows a Normal Distribution; hence we use *3 Sigma method* to handle the outliers"
   ]
  },
  {
   "cell_type": "code",
   "execution_count": 15,
   "id": "41b50c47",
   "metadata": {},
   "outputs": [],
   "source": [
    "handle_outliers(data, 'trestbps')"
   ]
  },
  {
   "cell_type": "code",
   "execution_count": 16,
   "id": "3851a8ba",
   "metadata": {},
   "outputs": [
    {
     "data": {
      "image/png": "[encoded data removed]",
      "text/plain": [
       "<Figure size 432x288 with 1 Axes>"
      ]
     },
     "metadata": {
      "needs_background": "light"
     },
     "output_type": "display_data"
    }
   ],
   "source": [
    "data['trestbps'].hist(bins=50)\n",
    "plt.show()"
   ]
  },
  {
   "cell_type": "markdown",
   "id": "52747eaf",
   "metadata": {},
   "source": [
    "### 3) thalach"
   ]
  },
  {
   "cell_type": "code",
   "execution_count": 17,
   "id": "e9f83a50",
   "metadata": {},
   "outputs": [
    {
     "data": {
      "image/png": "[encoded data removed]",
      "text/plain": [
       "<Figure size 432x288 with 1 Axes>"
      ]
     },
     "metadata": {
      "needs_background": "light"
     },
     "output_type": "display_data"
    }
   ],
   "source": [
    "data['thalach'].hist(bins=50)\n",
    "plt.show()"
   ]
  },
  {
   "cell_type": "markdown",
   "id": "4c4bcddf",
   "metadata": {},
   "source": [
    "#### The feature 'thalach' follows a Normal Distribution; hence we use *3 Sigma method* to handle the outliers"
   ]
  },
  {
   "cell_type": "code",
   "execution_count": 18,
   "id": "6708cee8",
   "metadata": {},
   "outputs": [],
   "source": [
    "handle_outliers(data, 'thalach')"
   ]
  },
  {
   "cell_type": "code",
   "execution_count": 19,
   "id": "3ebb3825",
   "metadata": {},
   "outputs": [
    {
     "data": {
      "image/png": "[encoded data removed]",
      "text/plain": [
       "<Figure size 432x288 with 1 Axes>"
      ]
     },
     "metadata": {
      "needs_background": "light"
     },
     "output_type": "display_data"
    }
   ],
   "source": [
    "data['thalach'].hist(bins=50)\n",
    "plt.show()"
   ]
  },
  {
   "cell_type": "code",
   "execution_count": 20,
   "id": "4ebcadf7",
   "metadata": {},
   "outputs": [
    {
     "data": {
      "image/png": "[encoded data removed]",
      "text/plain": [
       "<Figure size 720x576 with 1 Axes>"
      ]
     },
     "metadata": {
      "needs_background": "light"
     },
     "output_type": "display_data"
    }
   ],
   "source": [
    "plt.figure(figsize=(10, 8))\n",
    "\n",
    "data.boxplot()\n",
    "plt.show()"
   ]
  },
  {
   "cell_type": "markdown",
   "id": "portable-musician",
   "metadata": {},
   "source": [
    "## Train - Test Split :"
   ]
  },
  {
   "cell_type": "code",
   "execution_count": 21,
   "id": "modular-miracle",
   "metadata": {},
   "outputs": [],
   "source": [
    "X = data.copy()\n",
    "X.drop(['target'], axis=1, inplace=True)"
   ]
  },
  {
   "cell_type": "code",
   "execution_count": 22,
   "id": "spectacular-spyware",
   "metadata": {},
   "outputs": [
    {
     "data": {
      "text/html": [
       "<div>\n",
       "<style scoped>\n",
       "    .dataframe tbody tr th:only-of-type {\n",
       "        vertical-align: middle;\n",
       "    }\n",
       "\n",
       "    .dataframe tbody tr th {\n",
       "        vertical-align: top;\n",
       "    }\n",
       "\n",
       "    .dataframe thead th {\n",
       "        text-align: right;\n",
       "    }\n",
       "</style>\n",
       "<table border=\"1\" class=\"dataframe\">\n",
       "  <thead>\n",
       "    <tr style=\"text-align: right;\">\n",
       "      <th></th>\n",
       "      <th>age</th>\n",
       "      <th>sex</th>\n",
       "      <th>cp</th>\n",
       "      <th>trestbps</th>\n",
       "      <th>chol</th>\n",
       "      <th>fbs</th>\n",
       "      <th>restecg</th>\n",
       "      <th>thalach</th>\n",
       "      <th>exang</th>\n",
       "      <th>oldpeak</th>\n",
       "      <th>slope</th>\n",
       "      <th>ca</th>\n",
       "      <th>thal</th>\n",
       "    </tr>\n",
       "  </thead>\n",
       "  <tbody>\n",
       "    <tr>\n",
       "      <th>0</th>\n",
       "      <td>63</td>\n",
       "      <td>1</td>\n",
       "      <td>3</td>\n",
       "      <td>145.0</td>\n",
       "      <td>233.0</td>\n",
       "      <td>1</td>\n",
       "      <td>0</td>\n",
       "      <td>150.0</td>\n",
       "      <td>0</td>\n",
       "      <td>2.3</td>\n",
       "      <td>0</td>\n",
       "      <td>0</td>\n",
       "      <td>1</td>\n",
       "    </tr>\n",
       "    <tr>\n",
       "      <th>1</th>\n",
       "      <td>37</td>\n",
       "      <td>1</td>\n",
       "      <td>2</td>\n",
       "      <td>130.0</td>\n",
       "      <td>250.0</td>\n",
       "      <td>0</td>\n",
       "      <td>1</td>\n",
       "      <td>187.0</td>\n",
       "      <td>0</td>\n",
       "      <td>3.5</td>\n",
       "      <td>0</td>\n",
       "      <td>0</td>\n",
       "      <td>2</td>\n",
       "    </tr>\n",
       "    <tr>\n",
       "      <th>2</th>\n",
       "      <td>41</td>\n",
       "      <td>0</td>\n",
       "      <td>1</td>\n",
       "      <td>130.0</td>\n",
       "      <td>204.0</td>\n",
       "      <td>0</td>\n",
       "      <td>0</td>\n",
       "      <td>172.0</td>\n",
       "      <td>0</td>\n",
       "      <td>1.4</td>\n",
       "      <td>2</td>\n",
       "      <td>0</td>\n",
       "      <td>2</td>\n",
       "    </tr>\n",
       "    <tr>\n",
       "      <th>3</th>\n",
       "      <td>56</td>\n",
       "      <td>1</td>\n",
       "      <td>1</td>\n",
       "      <td>120.0</td>\n",
       "      <td>236.0</td>\n",
       "      <td>0</td>\n",
       "      <td>1</td>\n",
       "      <td>178.0</td>\n",
       "      <td>0</td>\n",
       "      <td>0.8</td>\n",
       "      <td>2</td>\n",
       "      <td>0</td>\n",
       "      <td>2</td>\n",
       "    </tr>\n",
       "    <tr>\n",
       "      <th>4</th>\n",
       "      <td>57</td>\n",
       "      <td>0</td>\n",
       "      <td>0</td>\n",
       "      <td>120.0</td>\n",
       "      <td>354.0</td>\n",
       "      <td>0</td>\n",
       "      <td>1</td>\n",
       "      <td>163.0</td>\n",
       "      <td>1</td>\n",
       "      <td>0.6</td>\n",
       "      <td>2</td>\n",
       "      <td>0</td>\n",
       "      <td>2</td>\n",
       "    </tr>\n",
       "  </tbody>\n",
       "</table>\n",
       "</div>"
      ],
      "text/plain": [
       "   age  sex  cp  trestbps   chol  fbs  restecg  thalach  exang  oldpeak  \\\n",
       "0   63    1   3     145.0  233.0    1        0    150.0      0      2.3   \n",
       "1   37    1   2     130.0  250.0    0        1    187.0      0      3.5   \n",
       "2   41    0   1     130.0  204.0    0        0    172.0      0      1.4   \n",
       "3   56    1   1     120.0  236.0    0        1    178.0      0      0.8   \n",
       "4   57    0   0     120.0  354.0    0        1    163.0      1      0.6   \n",
       "\n",
       "   slope  ca  thal  \n",
       "0      0   0     1  \n",
       "1      0   0     2  \n",
       "2      2   0     2  \n",
       "3      2   0     2  \n",
       "4      2   0     2  "
      ]
     },
     "execution_count": 22,
     "metadata": {},
     "output_type": "execute_result"
    }
   ],
   "source": [
    "X.head()"
   ]
  },
  {
   "cell_type": "code",
   "execution_count": 23,
   "id": "emerging-active",
   "metadata": {},
   "outputs": [],
   "source": [
    "y = data.target"
   ]
  },
  {
   "cell_type": "code",
   "execution_count": 24,
   "id": "tested-continent",
   "metadata": {},
   "outputs": [
    {
     "data": {
      "text/plain": [
       "0    1\n",
       "1    1\n",
       "2    1\n",
       "3    1\n",
       "4    1\n",
       "Name: target, dtype: int64"
      ]
     },
     "execution_count": 24,
     "metadata": {},
     "output_type": "execute_result"
    }
   ],
   "source": [
    "y.head()"
   ]
  },
  {
   "cell_type": "code",
   "execution_count": 25,
   "id": "above-messenger",
   "metadata": {},
   "outputs": [],
   "source": [
    "X_train, X_test, y_train, y_test = train_test_split(X, y, test_size=0.33, random_state=42)"
   ]
  },
  {
   "cell_type": "code",
   "execution_count": 26,
   "id": "turkish-dealing",
   "metadata": {},
   "outputs": [
    {
     "data": {
      "text/plain": [
       "(303, 13)"
      ]
     },
     "execution_count": 26,
     "metadata": {},
     "output_type": "execute_result"
    }
   ],
   "source": [
    "X.shape"
   ]
  },
  {
   "cell_type": "code",
   "execution_count": 27,
   "id": "suspended-cornell",
   "metadata": {},
   "outputs": [
    {
     "data": {
      "text/plain": [
       "(203, 13)"
      ]
     },
     "execution_count": 27,
     "metadata": {},
     "output_type": "execute_result"
    }
   ],
   "source": [
    "X_train.shape"
   ]
  },
  {
   "cell_type": "code",
   "execution_count": 28,
   "id": "republican-burning",
   "metadata": {},
   "outputs": [
    {
     "data": {
      "text/plain": [
       "(100, 13)"
      ]
     },
     "execution_count": 28,
     "metadata": {},
     "output_type": "execute_result"
    }
   ],
   "source": [
    "X_test.shape"
   ]
  },
  {
   "cell_type": "markdown",
   "id": "054c9411",
   "metadata": {},
   "source": [
    "## Feature Scaling : Standardizing"
   ]
  },
  {
   "cell_type": "code",
   "execution_count": 29,
   "id": "authorized-density",
   "metadata": {},
   "outputs": [],
   "source": [
    "sc = StandardScaler()"
   ]
  },
  {
   "cell_type": "code",
   "execution_count": 30,
   "id": "prostate-cannon",
   "metadata": {},
   "outputs": [],
   "source": [
    "X_train = sc.fit_transform(X_train)\n",
    "X_test = sc.fit_transform(X_test)"
   ]
  },
  {
   "cell_type": "code",
   "execution_count": 31,
   "id": "41f3afb3",
   "metadata": {},
   "outputs": [
    {
     "data": {
      "text/html": [
       "<div>\n",
       "<style scoped>\n",
       "    .dataframe tbody tr th:only-of-type {\n",
       "        vertical-align: middle;\n",
       "    }\n",
       "\n",
       "    .dataframe tbody tr th {\n",
       "        vertical-align: top;\n",
       "    }\n",
       "\n",
       "    .dataframe thead th {\n",
       "        text-align: right;\n",
       "    }\n",
       "</style>\n",
       "<table border=\"1\" class=\"dataframe\">\n",
       "  <thead>\n",
       "    <tr style=\"text-align: right;\">\n",
       "      <th></th>\n",
       "      <th>age</th>\n",
       "      <th>sex</th>\n",
       "      <th>cp</th>\n",
       "      <th>trestbps</th>\n",
       "      <th>chol</th>\n",
       "      <th>fbs</th>\n",
       "      <th>restecg</th>\n",
       "      <th>thalach</th>\n",
       "      <th>exang</th>\n",
       "      <th>oldpeak</th>\n",
       "      <th>slope</th>\n",
       "      <th>ca</th>\n",
       "      <th>thal</th>\n",
       "    </tr>\n",
       "  </thead>\n",
       "  <tbody>\n",
       "    <tr>\n",
       "      <th>0</th>\n",
       "      <td>-0.072269</td>\n",
       "      <td>0.717583</td>\n",
       "      <td>0.951166</td>\n",
       "      <td>1.137578</td>\n",
       "      <td>-0.304708</td>\n",
       "      <td>-0.383266</td>\n",
       "      <td>-0.998214</td>\n",
       "      <td>0.678479</td>\n",
       "      <td>-0.701888</td>\n",
       "      <td>0.515829</td>\n",
       "      <td>0.968589</td>\n",
       "      <td>-0.692329</td>\n",
       "      <td>1.118064</td>\n",
       "    </tr>\n",
       "    <tr>\n",
       "      <th>1</th>\n",
       "      <td>0.372295</td>\n",
       "      <td>-1.393567</td>\n",
       "      <td>0.951166</td>\n",
       "      <td>-0.637537</td>\n",
       "      <td>1.811846</td>\n",
       "      <td>-0.383266</td>\n",
       "      <td>0.895594</td>\n",
       "      <td>0.987987</td>\n",
       "      <td>-0.701888</td>\n",
       "      <td>-0.939786</td>\n",
       "      <td>0.968589</td>\n",
       "      <td>-0.692329</td>\n",
       "      <td>-0.550811</td>\n",
       "    </tr>\n",
       "    <tr>\n",
       "      <th>2</th>\n",
       "      <td>-0.850256</td>\n",
       "      <td>0.717583</td>\n",
       "      <td>-0.970094</td>\n",
       "      <td>-1.110901</td>\n",
       "      <td>-0.853444</td>\n",
       "      <td>-0.383266</td>\n",
       "      <td>0.895594</td>\n",
       "      <td>-0.294262</td>\n",
       "      <td>-0.701888</td>\n",
       "      <td>-0.848811</td>\n",
       "      <td>0.968589</td>\n",
       "      <td>-0.692329</td>\n",
       "      <td>-0.550811</td>\n",
       "    </tr>\n",
       "    <tr>\n",
       "      <th>3</th>\n",
       "      <td>0.372295</td>\n",
       "      <td>0.717583</td>\n",
       "      <td>-0.970094</td>\n",
       "      <td>-0.992560</td>\n",
       "      <td>1.380696</td>\n",
       "      <td>-0.383266</td>\n",
       "      <td>2.789402</td>\n",
       "      <td>-0.426908</td>\n",
       "      <td>-0.701888</td>\n",
       "      <td>3.063157</td>\n",
       "      <td>-2.281388</td>\n",
       "      <td>2.576107</td>\n",
       "      <td>-2.219686</td>\n",
       "    </tr>\n",
       "    <tr>\n",
       "      <th>4</th>\n",
       "      <td>0.372295</td>\n",
       "      <td>0.717583</td>\n",
       "      <td>-0.970094</td>\n",
       "      <td>-1.820947</td>\n",
       "      <td>-0.265512</td>\n",
       "      <td>-0.383266</td>\n",
       "      <td>0.895594</td>\n",
       "      <td>0.280540</td>\n",
       "      <td>-0.701888</td>\n",
       "      <td>-0.848811</td>\n",
       "      <td>0.968589</td>\n",
       "      <td>0.397150</td>\n",
       "      <td>1.118064</td>\n",
       "    </tr>\n",
       "  </tbody>\n",
       "</table>\n",
       "</div>"
      ],
      "text/plain": [
       "        age       sex        cp  trestbps      chol       fbs   restecg  \\\n",
       "0 -0.072269  0.717583  0.951166  1.137578 -0.304708 -0.383266 -0.998214   \n",
       "1  0.372295 -1.393567  0.951166 -0.637537  1.811846 -0.383266  0.895594   \n",
       "2 -0.850256  0.717583 -0.970094 -1.110901 -0.853444 -0.383266  0.895594   \n",
       "3  0.372295  0.717583 -0.970094 -0.992560  1.380696 -0.383266  2.789402   \n",
       "4  0.372295  0.717583 -0.970094 -1.820947 -0.265512 -0.383266  0.895594   \n",
       "\n",
       "    thalach     exang   oldpeak     slope        ca      thal  \n",
       "0  0.678479 -0.701888  0.515829  0.968589 -0.692329  1.118064  \n",
       "1  0.987987 -0.701888 -0.939786  0.968589 -0.692329 -0.550811  \n",
       "2 -0.294262 -0.701888 -0.848811  0.968589 -0.692329 -0.550811  \n",
       "3 -0.426908 -0.701888  3.063157 -2.281388  2.576107 -2.219686  \n",
       "4  0.280540 -0.701888 -0.848811  0.968589  0.397150  1.118064  "
      ]
     },
     "execution_count": 31,
     "metadata": {},
     "output_type": "execute_result"
    }
   ],
   "source": [
    "# Standardized Training Data\n",
    "X_train = pd.DataFrame(X_train, columns=X.columns)\n",
    "X_train.head()"
   ]
  },
  {
   "cell_type": "code",
   "execution_count": 32,
   "id": "af243c9e",
   "metadata": {},
   "outputs": [
    {
     "data": {
      "text/html": [
       "<div>\n",
       "<style scoped>\n",
       "    .dataframe tbody tr th:only-of-type {\n",
       "        vertical-align: middle;\n",
       "    }\n",
       "\n",
       "    .dataframe tbody tr th {\n",
       "        vertical-align: top;\n",
       "    }\n",
       "\n",
       "    .dataframe thead th {\n",
       "        text-align: right;\n",
       "    }\n",
       "</style>\n",
       "<table border=\"1\" class=\"dataframe\">\n",
       "  <thead>\n",
       "    <tr style=\"text-align: right;\">\n",
       "      <th></th>\n",
       "      <th>age</th>\n",
       "      <th>sex</th>\n",
       "      <th>cp</th>\n",
       "      <th>trestbps</th>\n",
       "      <th>chol</th>\n",
       "      <th>fbs</th>\n",
       "      <th>restecg</th>\n",
       "      <th>thalach</th>\n",
       "      <th>exang</th>\n",
       "      <th>oldpeak</th>\n",
       "      <th>slope</th>\n",
       "      <th>ca</th>\n",
       "      <th>thal</th>\n",
       "    </tr>\n",
       "  </thead>\n",
       "  <tbody>\n",
       "    <tr>\n",
       "      <th>0</th>\n",
       "      <td>0.349687</td>\n",
       "      <td>0.608164</td>\n",
       "      <td>-0.877546</td>\n",
       "      <td>0.947635</td>\n",
       "      <td>0.776091</td>\n",
       "      <td>-0.484322</td>\n",
       "      <td>-1.021690</td>\n",
       "      <td>-1.636648</td>\n",
       "      <td>1.457738</td>\n",
       "      <td>-0.356098</td>\n",
       "      <td>-0.634419</td>\n",
       "      <td>0.067767</td>\n",
       "      <td>-2.019822</td>\n",
       "    </tr>\n",
       "    <tr>\n",
       "      <th>1</th>\n",
       "      <td>0.567560</td>\n",
       "      <td>0.608164</td>\n",
       "      <td>2.114089</td>\n",
       "      <td>2.069919</td>\n",
       "      <td>1.048066</td>\n",
       "      <td>-0.484322</td>\n",
       "      <td>-1.021690</td>\n",
       "      <td>0.402150</td>\n",
       "      <td>-0.685994</td>\n",
       "      <td>-0.670534</td>\n",
       "      <td>-0.634419</td>\n",
       "      <td>-0.779325</td>\n",
       "      <td>1.136150</td>\n",
       "    </tr>\n",
       "    <tr>\n",
       "      <th>2</th>\n",
       "      <td>0.349687</td>\n",
       "      <td>0.608164</td>\n",
       "      <td>1.116877</td>\n",
       "      <td>0.947635</td>\n",
       "      <td>-2.623599</td>\n",
       "      <td>2.064742</td>\n",
       "      <td>0.906027</td>\n",
       "      <td>1.009452</td>\n",
       "      <td>-0.685994</td>\n",
       "      <td>-0.670534</td>\n",
       "      <td>0.992296</td>\n",
       "      <td>0.067767</td>\n",
       "      <td>1.136150</td>\n",
       "    </tr>\n",
       "    <tr>\n",
       "      <th>3</th>\n",
       "      <td>0.240750</td>\n",
       "      <td>-1.644294</td>\n",
       "      <td>-0.877546</td>\n",
       "      <td>0.049808</td>\n",
       "      <td>3.626307</td>\n",
       "      <td>-0.484322</td>\n",
       "      <td>-1.021690</td>\n",
       "      <td>0.011742</td>\n",
       "      <td>1.457738</td>\n",
       "      <td>0.665817</td>\n",
       "      <td>-0.634419</td>\n",
       "      <td>0.914860</td>\n",
       "      <td>1.136150</td>\n",
       "    </tr>\n",
       "    <tr>\n",
       "      <th>4</th>\n",
       "      <td>1.874800</td>\n",
       "      <td>-1.644294</td>\n",
       "      <td>1.116877</td>\n",
       "      <td>-1.296933</td>\n",
       "      <td>0.526781</td>\n",
       "      <td>2.064742</td>\n",
       "      <td>-1.021690</td>\n",
       "      <td>-0.855832</td>\n",
       "      <td>-0.685994</td>\n",
       "      <td>-0.827752</td>\n",
       "      <td>0.992296</td>\n",
       "      <td>0.067767</td>\n",
       "      <td>-0.441836</td>\n",
       "    </tr>\n",
       "  </tbody>\n",
       "</table>\n",
       "</div>"
      ],
      "text/plain": [
       "        age       sex        cp  trestbps      chol       fbs   restecg  \\\n",
       "0  0.349687  0.608164 -0.877546  0.947635  0.776091 -0.484322 -1.021690   \n",
       "1  0.567560  0.608164  2.114089  2.069919  1.048066 -0.484322 -1.021690   \n",
       "2  0.349687  0.608164  1.116877  0.947635 -2.623599  2.064742  0.906027   \n",
       "3  0.240750 -1.644294 -0.877546  0.049808  3.626307 -0.484322 -1.021690   \n",
       "4  1.874800 -1.644294  1.116877 -1.296933  0.526781  2.064742 -1.021690   \n",
       "\n",
       "    thalach     exang   oldpeak     slope        ca      thal  \n",
       "0 -1.636648  1.457738 -0.356098 -0.634419  0.067767 -2.019822  \n",
       "1  0.402150 -0.685994 -0.670534 -0.634419 -0.779325  1.136150  \n",
       "2  1.009452 -0.685994 -0.670534  0.992296  0.067767  1.136150  \n",
       "3  0.011742  1.457738  0.665817 -0.634419  0.914860  1.136150  \n",
       "4 -0.855832 -0.685994 -0.827752  0.992296  0.067767 -0.441836  "
      ]
     },
     "execution_count": 32,
     "metadata": {},
     "output_type": "execute_result"
    }
   ],
   "source": [
    "# Standardized Training Data\n",
    "X_test = pd.DataFrame(X_test, columns=X.columns)\n",
    "X_test.head()"
   ]
  },
  {
   "cell_type": "markdown",
   "id": "03301056",
   "metadata": {},
   "source": [
    "## Training"
   ]
  },
  {
   "cell_type": "markdown",
   "id": "thick-crowd",
   "metadata": {},
   "source": [
    "## 1) Logistic Regression :"
   ]
  },
  {
   "cell_type": "code",
   "execution_count": 33,
   "id": "assured-confirmation",
   "metadata": {},
   "outputs": [],
   "source": [
    "log_r = LogisticRegression()"
   ]
  },
  {
   "cell_type": "code",
   "execution_count": 34,
   "id": "valuable-convergence",
   "metadata": {},
   "outputs": [
    {
     "data": {
      "text/plain": [
       "LogisticRegression()"
      ]
     },
     "execution_count": 34,
     "metadata": {},
     "output_type": "execute_result"
    }
   ],
   "source": [
    "log_r.fit(X_train, y_train)"
   ]
  },
  {
   "cell_type": "code",
   "execution_count": 35,
   "id": "specified-maker",
   "metadata": {},
   "outputs": [
    {
     "name": "stdout",
     "output_type": "stream",
     "text": [
      "Logistic Regression Model Accuracy :  0.81\n"
     ]
    }
   ],
   "source": [
    "print('Logistic Regression Model Accuracy : ', log_r.score(X_test, y_test))"
   ]
  },
  {
   "cell_type": "markdown",
   "id": "naval-withdrawal",
   "metadata": {},
   "source": [
    "## 2) Decision Tree :"
   ]
  },
  {
   "cell_type": "code",
   "execution_count": 36,
   "id": "weekly-script",
   "metadata": {},
   "outputs": [],
   "source": [
    "dt = DecisionTreeClassifier()"
   ]
  },
  {
   "cell_type": "code",
   "execution_count": 37,
   "id": "outer-arctic",
   "metadata": {},
   "outputs": [
    {
     "data": {
      "text/plain": [
       "DecisionTreeClassifier()"
      ]
     },
     "execution_count": 37,
     "metadata": {},
     "output_type": "execute_result"
    }
   ],
   "source": [
    "dt.fit(X_train, y_train)"
   ]
  },
  {
   "cell_type": "code",
   "execution_count": 38,
   "id": "creative-nevada",
   "metadata": {},
   "outputs": [
    {
     "name": "stdout",
     "output_type": "stream",
     "text": [
      "Decision Tree Model Accuracy :  0.71\n"
     ]
    }
   ],
   "source": [
    "print('Decision Tree Model Accuracy : ', dt.score(X_test, y_test))"
   ]
  },
  {
   "cell_type": "markdown",
   "id": "antique-trigger",
   "metadata": {},
   "source": [
    "## 3) Random Forest :"
   ]
  },
  {
   "cell_type": "code",
   "execution_count": 39,
   "id": "freelance-economics",
   "metadata": {},
   "outputs": [],
   "source": [
    "rf = RandomForestClassifier()"
   ]
  },
  {
   "cell_type": "code",
   "execution_count": 40,
   "id": "interesting-orchestra",
   "metadata": {},
   "outputs": [
    {
     "data": {
      "text/plain": [
       "RandomForestClassifier()"
      ]
     },
     "execution_count": 40,
     "metadata": {},
     "output_type": "execute_result"
    }
   ],
   "source": [
    "rf.fit(X_train, y_train)"
   ]
  },
  {
   "cell_type": "code",
   "execution_count": 41,
   "id": "about-shirt",
   "metadata": {},
   "outputs": [
    {
     "name": "stdout",
     "output_type": "stream",
     "text": [
      "Random Forest Model Accuracy :  0.84\n"
     ]
    }
   ],
   "source": [
    "print('Random Forest Model Accuracy : ', rf.score(X_test, y_test))"
   ]
  },
  {
   "cell_type": "markdown",
   "id": "scenic-butterfly",
   "metadata": {},
   "source": [
    "## 4) Gradient Boost :"
   ]
  },
  {
   "cell_type": "code",
   "execution_count": 42,
   "id": "permanent-broadcast",
   "metadata": {},
   "outputs": [],
   "source": [
    "gb = GradientBoostingClassifier()"
   ]
  },
  {
   "cell_type": "code",
   "execution_count": 43,
   "id": "collaborative-basis",
   "metadata": {},
   "outputs": [
    {
     "data": {
      "text/plain": [
       "GradientBoostingClassifier()"
      ]
     },
     "execution_count": 43,
     "metadata": {},
     "output_type": "execute_result"
    }
   ],
   "source": [
    "gb.fit(X_train, y_train)"
   ]
  },
  {
   "cell_type": "code",
   "execution_count": 44,
   "id": "wired-visibility",
   "metadata": {},
   "outputs": [
    {
     "name": "stdout",
     "output_type": "stream",
     "text": [
      "Gradient Boost Model Accuracy :  0.79\n"
     ]
    }
   ],
   "source": [
    "print('Gradient Boost Model Accuracy : ', gb.score(X_test, y_test))"
   ]
  },
  {
   "cell_type": "markdown",
   "id": "median-ratio",
   "metadata": {},
   "source": [
    "## 5) AdaBoost :"
   ]
  },
  {
   "cell_type": "code",
   "execution_count": 45,
   "id": "pregnant-tumor",
   "metadata": {},
   "outputs": [],
   "source": [
    "ab = AdaBoostClassifier()"
   ]
  },
  {
   "cell_type": "code",
   "execution_count": 46,
   "id": "outside-marketing",
   "metadata": {},
   "outputs": [
    {
     "data": {
      "text/plain": [
       "AdaBoostClassifier()"
      ]
     },
     "execution_count": 46,
     "metadata": {},
     "output_type": "execute_result"
    }
   ],
   "source": [
    "ab.fit(X_train, y_train)"
   ]
  },
  {
   "cell_type": "code",
   "execution_count": 47,
   "id": "general-grain",
   "metadata": {},
   "outputs": [
    {
     "name": "stdout",
     "output_type": "stream",
     "text": [
      "AdaBoost Model Accuracy :  0.83\n"
     ]
    }
   ],
   "source": [
    "print('AdaBoost Model Accuracy : ', ab.score(X_test, y_test))"
   ]
  },
  {
   "cell_type": "markdown",
   "id": "fitted-english",
   "metadata": {},
   "source": [
    "## 6) Support Vector Machine :"
   ]
  },
  {
   "cell_type": "code",
   "execution_count": 48,
   "id": "capable-charlotte",
   "metadata": {},
   "outputs": [],
   "source": [
    "svc = SVC()"
   ]
  },
  {
   "cell_type": "code",
   "execution_count": 49,
   "id": "combined-adams",
   "metadata": {},
   "outputs": [
    {
     "data": {
      "text/plain": [
       "SVC()"
      ]
     },
     "execution_count": 49,
     "metadata": {},
     "output_type": "execute_result"
    }
   ],
   "source": [
    "svc.fit(X_train, y_train)"
   ]
  },
  {
   "cell_type": "code",
   "execution_count": 50,
   "id": "stylish-there",
   "metadata": {},
   "outputs": [
    {
     "name": "stdout",
     "output_type": "stream",
     "text": [
      "Support Vector Machine Model Accuracy :  0.81\n"
     ]
    }
   ],
   "source": [
    "print('Support Vector Machine Model Accuracy : ', svc.score(X_test, y_test))"
   ]
  },
  {
   "cell_type": "markdown",
   "id": "appropriate-minute",
   "metadata": {},
   "source": [
    "## 7) Naive Bayes :"
   ]
  },
  {
   "cell_type": "code",
   "execution_count": 51,
   "id": "after-cooperation",
   "metadata": {},
   "outputs": [],
   "source": [
    "nb = GaussianNB()"
   ]
  },
  {
   "cell_type": "code",
   "execution_count": 52,
   "id": "veterinary-orleans",
   "metadata": {},
   "outputs": [
    {
     "data": {
      "text/plain": [
       "GaussianNB()"
      ]
     },
     "execution_count": 52,
     "metadata": {},
     "output_type": "execute_result"
    }
   ],
   "source": [
    "nb.fit(X_train, y_train)"
   ]
  },
  {
   "cell_type": "code",
   "execution_count": 53,
   "id": "enclosed-campus",
   "metadata": {},
   "outputs": [
    {
     "name": "stdout",
     "output_type": "stream",
     "text": [
      "Naive Bayes' Model Accuracy :  0.84\n"
     ]
    }
   ],
   "source": [
    "print(\"Naive Bayes' Model Accuracy : \", nb.score(X_test, y_test))"
   ]
  },
  {
   "cell_type": "markdown",
   "id": "domestic-sleeve",
   "metadata": {},
   "source": [
    "## 8) K - Nearest Neighbors (KNN) :"
   ]
  },
  {
   "cell_type": "code",
   "execution_count": 54,
   "id": "meaningful-knock",
   "metadata": {},
   "outputs": [],
   "source": [
    "knn = KNeighborsClassifier()"
   ]
  },
  {
   "cell_type": "code",
   "execution_count": 55,
   "id": "least-devil",
   "metadata": {},
   "outputs": [
    {
     "data": {
      "text/plain": [
       "KNeighborsClassifier()"
      ]
     },
     "execution_count": 55,
     "metadata": {},
     "output_type": "execute_result"
    }
   ],
   "source": [
    "knn.fit(X_train, y_train)"
   ]
  },
  {
   "cell_type": "code",
   "execution_count": 56,
   "id": "gross-therapy",
   "metadata": {},
   "outputs": [
    {
     "name": "stdout",
     "output_type": "stream",
     "text": [
      "K-Nearest Neighbors Model Accuracy :  0.84\n"
     ]
    }
   ],
   "source": [
    "print('K-Nearest Neighbors Model Accuracy : ', knn.score(X_test, y_test))"
   ]
  },
  {
   "cell_type": "markdown",
   "id": "e629d647",
   "metadata": {},
   "source": [
    "## The model with Highest Accuracy : K-Nearest Neighbors (KNN)"
   ]
  }
 ],
 "metadata": {
  "kernelspec": {
   "display_name": "Python 3",
   "language": "python",
   "name": "python3"
  },
  "language_info": {
   "codemirror_mode": {
    "name": "ipython",
    "version": 3
   },
   "file_extension": ".py",
   "mimetype": "text/x-python",
   "name": "python",
   "nbconvert_exporter": "python",
   "pygments_lexer": "ipython3",
   "version": "3.7.10"
  }
 },
 "nbformat": 4,
 "nbformat_minor": 5
}
