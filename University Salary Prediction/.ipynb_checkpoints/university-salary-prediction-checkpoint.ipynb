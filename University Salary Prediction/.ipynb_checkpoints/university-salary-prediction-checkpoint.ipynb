{
 "cells": [
  {
   "cell_type": "markdown",
   "id": "24a9a46f",
   "metadata": {},
   "source": [
    "# Problem Statement :\n",
    "\n",
    "## The following data contains Salaries of University of Vermont (UVM) faculty from 2009 to 2021. Create a model to predict the future 'Base Pay' of the faculty within the University."
   ]
  },
  {
   "cell_type": "code",
   "execution_count": 1,
   "id": "0d570557",
   "metadata": {},
   "outputs": [],
   "source": [
    "import pandas as pd\n",
    "import numpy as np\n",
    "import matplotlib.pyplot as plt\n",
    "%matplotlib inline\n",
    "import seaborn as sns\n",
    "\n",
    "from sklearn.preprocessing import StandardScaler, OneHotEncoder\n",
    "from sklearn.model_selection import train_test_split, GridSearchCV, RandomizedSearchCV, cross_val_score\n",
    "\n",
    "# Models\n",
    "from sklearn.linear_model import LinearRegression, Ridge"
   ]
  },
  {
   "cell_type": "code",
   "execution_count": 2,
   "id": "2c8e636b",
   "metadata": {
    "scrolled": true
   },
   "outputs": [
    {
     "data": {
      "text/html": [
       "<div>\n",
       "<style scoped>\n",
       "    .dataframe tbody tr th:only-of-type {\n",
       "        vertical-align: middle;\n",
       "    }\n",
       "\n",
       "    .dataframe tbody tr th {\n",
       "        vertical-align: top;\n",
       "    }\n",
       "\n",
       "    .dataframe thead th {\n",
       "        text-align: right;\n",
       "    }\n",
       "</style>\n",
       "<table border=\"1\" class=\"dataframe\">\n",
       "  <thead>\n",
       "    <tr style=\"text-align: right;\">\n",
       "      <th></th>\n",
       "      <th>Year</th>\n",
       "      <th>Name</th>\n",
       "      <th>Primary Job Title</th>\n",
       "      <th>Base Pay</th>\n",
       "      <th>Department</th>\n",
       "      <th>College</th>\n",
       "    </tr>\n",
       "  </thead>\n",
       "  <tbody>\n",
       "    <tr>\n",
       "      <th>0</th>\n",
       "      <td>2010</td>\n",
       "      <td>Abaied, Jamie L.</td>\n",
       "      <td>Assistant Professor</td>\n",
       "      <td>64000.0</td>\n",
       "      <td>Department of Psychological Science</td>\n",
       "      <td>CAS</td>\n",
       "    </tr>\n",
       "    <tr>\n",
       "      <th>1</th>\n",
       "      <td>2011</td>\n",
       "      <td>Abaied, Jamie L.</td>\n",
       "      <td>Assistant Professor</td>\n",
       "      <td>64000.0</td>\n",
       "      <td>Department of Psychological Science</td>\n",
       "      <td>CAS</td>\n",
       "    </tr>\n",
       "    <tr>\n",
       "      <th>2</th>\n",
       "      <td>2012</td>\n",
       "      <td>Abaied, Jamie L.</td>\n",
       "      <td>Assistant Professor</td>\n",
       "      <td>65229.0</td>\n",
       "      <td>Department of Psychological Science</td>\n",
       "      <td>CAS</td>\n",
       "    </tr>\n",
       "    <tr>\n",
       "      <th>3</th>\n",
       "      <td>2013</td>\n",
       "      <td>Abaied, Jamie L.</td>\n",
       "      <td>Assistant Professor</td>\n",
       "      <td>66969.0</td>\n",
       "      <td>Department of Psychological Science</td>\n",
       "      <td>CAS</td>\n",
       "    </tr>\n",
       "    <tr>\n",
       "      <th>4</th>\n",
       "      <td>2014</td>\n",
       "      <td>Abaied, Jamie L.</td>\n",
       "      <td>Assistant Professor</td>\n",
       "      <td>68658.0</td>\n",
       "      <td>Department of Psychological Science</td>\n",
       "      <td>CAS</td>\n",
       "    </tr>\n",
       "  </tbody>\n",
       "</table>\n",
       "</div>"
      ],
      "text/plain": [
       "   Year              Name    Primary Job Title  Base Pay  \\\n",
       "0  2010  Abaied, Jamie L.  Assistant Professor   64000.0   \n",
       "1  2011  Abaied, Jamie L.  Assistant Professor   64000.0   \n",
       "2  2012  Abaied, Jamie L.  Assistant Professor   65229.0   \n",
       "3  2013  Abaied, Jamie L.  Assistant Professor   66969.0   \n",
       "4  2014  Abaied, Jamie L.  Assistant Professor   68658.0   \n",
       "\n",
       "                            Department College  \n",
       "0  Department of Psychological Science     CAS  \n",
       "1  Department of Psychological Science     CAS  \n",
       "2  Department of Psychological Science     CAS  \n",
       "3  Department of Psychological Science     CAS  \n",
       "4  Department of Psychological Science     CAS  "
      ]
     },
     "execution_count": 2,
     "metadata": {},
     "output_type": "execute_result"
    }
   ],
   "source": [
    "df = pd.read_csv('university_salaries.csv')\n",
    "df.head()"
   ]
  },
  {
   "cell_type": "code",
   "execution_count": 3,
   "id": "c998e567",
   "metadata": {
    "scrolled": true
   },
   "outputs": [
    {
     "data": {
      "text/plain": [
       "(14470, 6)"
      ]
     },
     "execution_count": 3,
     "metadata": {},
     "output_type": "execute_result"
    }
   ],
   "source": [
    "df.shape"
   ]
  },
  {
   "cell_type": "markdown",
   "id": "2b49dc48",
   "metadata": {},
   "source": [
    "## Part 1\n",
    "\n",
    "## Without using sklearn Pipeline"
   ]
  },
  {
   "cell_type": "code",
   "execution_count": 4,
   "id": "f5fa0521",
   "metadata": {},
   "outputs": [],
   "source": [
    "data = df.copy()"
   ]
  },
  {
   "cell_type": "markdown",
   "id": "bb2129a7",
   "metadata": {},
   "source": [
    "## Preprocessing"
   ]
  },
  {
   "cell_type": "code",
   "execution_count": 5,
   "id": "74e047f9",
   "metadata": {
    "scrolled": true
   },
   "outputs": [
    {
     "data": {
      "text/plain": [
       "Year                 0\n",
       "Name                 0\n",
       "Primary Job Title    0\n",
       "Base Pay             0\n",
       "Department           0\n",
       "College              0\n",
       "dtype: int64"
      ]
     },
     "execution_count": 5,
     "metadata": {},
     "output_type": "execute_result"
    }
   ],
   "source": [
    "data.isnull().sum()"
   ]
  },
  {
   "cell_type": "markdown",
   "id": "0b3da2e4",
   "metadata": {},
   "source": [
    "### No null values present within the dataset"
   ]
  },
  {
   "cell_type": "markdown",
   "id": "d5272053",
   "metadata": {},
   "source": [
    "### 'Name' is a unique identifier, hence we can drop this feature"
   ]
  },
  {
   "cell_type": "code",
   "execution_count": 6,
   "id": "b6cc5a15",
   "metadata": {},
   "outputs": [],
   "source": [
    "data.drop(['Name'], axis=1, inplace=True)"
   ]
  },
  {
   "cell_type": "code",
   "execution_count": 7,
   "id": "afa1ccc1",
   "metadata": {},
   "outputs": [
    {
     "data": {
      "text/html": [
       "<div>\n",
       "<style scoped>\n",
       "    .dataframe tbody tr th:only-of-type {\n",
       "        vertical-align: middle;\n",
       "    }\n",
       "\n",
       "    .dataframe tbody tr th {\n",
       "        vertical-align: top;\n",
       "    }\n",
       "\n",
       "    .dataframe thead th {\n",
       "        text-align: right;\n",
       "    }\n",
       "</style>\n",
       "<table border=\"1\" class=\"dataframe\">\n",
       "  <thead>\n",
       "    <tr style=\"text-align: right;\">\n",
       "      <th></th>\n",
       "      <th>Year</th>\n",
       "      <th>Primary Job Title</th>\n",
       "      <th>Base Pay</th>\n",
       "      <th>Department</th>\n",
       "      <th>College</th>\n",
       "    </tr>\n",
       "  </thead>\n",
       "  <tbody>\n",
       "    <tr>\n",
       "      <th>0</th>\n",
       "      <td>2010</td>\n",
       "      <td>Assistant Professor</td>\n",
       "      <td>64000.0</td>\n",
       "      <td>Department of Psychological Science</td>\n",
       "      <td>CAS</td>\n",
       "    </tr>\n",
       "    <tr>\n",
       "      <th>1</th>\n",
       "      <td>2011</td>\n",
       "      <td>Assistant Professor</td>\n",
       "      <td>64000.0</td>\n",
       "      <td>Department of Psychological Science</td>\n",
       "      <td>CAS</td>\n",
       "    </tr>\n",
       "    <tr>\n",
       "      <th>2</th>\n",
       "      <td>2012</td>\n",
       "      <td>Assistant Professor</td>\n",
       "      <td>65229.0</td>\n",
       "      <td>Department of Psychological Science</td>\n",
       "      <td>CAS</td>\n",
       "    </tr>\n",
       "    <tr>\n",
       "      <th>3</th>\n",
       "      <td>2013</td>\n",
       "      <td>Assistant Professor</td>\n",
       "      <td>66969.0</td>\n",
       "      <td>Department of Psychological Science</td>\n",
       "      <td>CAS</td>\n",
       "    </tr>\n",
       "    <tr>\n",
       "      <th>4</th>\n",
       "      <td>2014</td>\n",
       "      <td>Assistant Professor</td>\n",
       "      <td>68658.0</td>\n",
       "      <td>Department of Psychological Science</td>\n",
       "      <td>CAS</td>\n",
       "    </tr>\n",
       "  </tbody>\n",
       "</table>\n",
       "</div>"
      ],
      "text/plain": [
       "   Year    Primary Job Title  Base Pay                           Department  \\\n",
       "0  2010  Assistant Professor   64000.0  Department of Psychological Science   \n",
       "1  2011  Assistant Professor   64000.0  Department of Psychological Science   \n",
       "2  2012  Assistant Professor   65229.0  Department of Psychological Science   \n",
       "3  2013  Assistant Professor   66969.0  Department of Psychological Science   \n",
       "4  2014  Assistant Professor   68658.0  Department of Psychological Science   \n",
       "\n",
       "  College  \n",
       "0     CAS  \n",
       "1     CAS  \n",
       "2     CAS  \n",
       "3     CAS  \n",
       "4     CAS  "
      ]
     },
     "execution_count": 7,
     "metadata": {},
     "output_type": "execute_result"
    }
   ],
   "source": [
    "df1 = data.copy()\n",
    "df1.head()"
   ]
  },
  {
   "cell_type": "markdown",
   "id": "2c1b3d6d",
   "metadata": {},
   "source": [
    "## Encoding"
   ]
  },
  {
   "cell_type": "code",
   "execution_count": 8,
   "id": "4a5dff30",
   "metadata": {},
   "outputs": [],
   "source": [
    "pjt_dummies = pd.get_dummies(df1['Primary Job Title'], drop_first=True)\n",
    "dept_dummies = pd.get_dummies(df1['Department'], drop_first=True)\n",
    "col_dummies = pd.get_dummies(df1['College'], drop_first=True)"
   ]
  },
  {
   "cell_type": "code",
   "execution_count": 9,
   "id": "a0fb9d97",
   "metadata": {},
   "outputs": [],
   "source": [
    "df1 = pd.concat([df1, pjt_dummies, dept_dummies, col_dummies], axis=1)"
   ]
  },
  {
   "cell_type": "code",
   "execution_count": 10,
   "id": "ac0b5444",
   "metadata": {},
   "outputs": [],
   "source": [
    "df1.drop(['Primary Job Title', 'Department', 'College'], axis=1, inplace=True)"
   ]
  },
  {
   "cell_type": "code",
   "execution_count": 11,
   "id": "526aa342",
   "metadata": {},
   "outputs": [
    {
     "data": {
      "text/html": [
       "<div>\n",
       "<style scoped>\n",
       "    .dataframe tbody tr th:only-of-type {\n",
       "        vertical-align: middle;\n",
       "    }\n",
       "\n",
       "    .dataframe tbody tr th {\n",
       "        vertical-align: top;\n",
       "    }\n",
       "\n",
       "    .dataframe thead th {\n",
       "        text-align: right;\n",
       "    }\n",
       "</style>\n",
       "<table border=\"1\" class=\"dataframe\">\n",
       "  <thead>\n",
       "    <tr style=\"text-align: right;\">\n",
       "      <th></th>\n",
       "      <th>Year</th>\n",
       "      <th>Base Pay</th>\n",
       "      <th>Academic Srvcs Professional Sr</th>\n",
       "      <th>Academic Srvcs Professonal Sr</th>\n",
       "      <th>Acting Director</th>\n",
       "      <th>Acting Director Dana Medical Library</th>\n",
       "      <th>Admin Analyst/Planner</th>\n",
       "      <th>Admin Analyst/Planner Sr</th>\n",
       "      <th>Admin Facilities Professnl</th>\n",
       "      <th>Admin Leave - Former Administrator</th>\n",
       "      <th>...</th>\n",
       "      <th>CAS</th>\n",
       "      <th>CEMS</th>\n",
       "      <th>CESS</th>\n",
       "      <th>CNHS</th>\n",
       "      <th>COM</th>\n",
       "      <th>Department of Ext</th>\n",
       "      <th>LCOMEO</th>\n",
       "      <th>Learning and Info Tech</th>\n",
       "      <th>Library</th>\n",
       "      <th>RSENR</th>\n",
       "    </tr>\n",
       "  </thead>\n",
       "  <tbody>\n",
       "    <tr>\n",
       "      <th>0</th>\n",
       "      <td>2010</td>\n",
       "      <td>64000.0</td>\n",
       "      <td>0</td>\n",
       "      <td>0</td>\n",
       "      <td>0</td>\n",
       "      <td>0</td>\n",
       "      <td>0</td>\n",
       "      <td>0</td>\n",
       "      <td>0</td>\n",
       "      <td>0</td>\n",
       "      <td>...</td>\n",
       "      <td>1</td>\n",
       "      <td>0</td>\n",
       "      <td>0</td>\n",
       "      <td>0</td>\n",
       "      <td>0</td>\n",
       "      <td>0</td>\n",
       "      <td>0</td>\n",
       "      <td>0</td>\n",
       "      <td>0</td>\n",
       "      <td>0</td>\n",
       "    </tr>\n",
       "    <tr>\n",
       "      <th>1</th>\n",
       "      <td>2011</td>\n",
       "      <td>64000.0</td>\n",
       "      <td>0</td>\n",
       "      <td>0</td>\n",
       "      <td>0</td>\n",
       "      <td>0</td>\n",
       "      <td>0</td>\n",
       "      <td>0</td>\n",
       "      <td>0</td>\n",
       "      <td>0</td>\n",
       "      <td>...</td>\n",
       "      <td>1</td>\n",
       "      <td>0</td>\n",
       "      <td>0</td>\n",
       "      <td>0</td>\n",
       "      <td>0</td>\n",
       "      <td>0</td>\n",
       "      <td>0</td>\n",
       "      <td>0</td>\n",
       "      <td>0</td>\n",
       "      <td>0</td>\n",
       "    </tr>\n",
       "    <tr>\n",
       "      <th>2</th>\n",
       "      <td>2012</td>\n",
       "      <td>65229.0</td>\n",
       "      <td>0</td>\n",
       "      <td>0</td>\n",
       "      <td>0</td>\n",
       "      <td>0</td>\n",
       "      <td>0</td>\n",
       "      <td>0</td>\n",
       "      <td>0</td>\n",
       "      <td>0</td>\n",
       "      <td>...</td>\n",
       "      <td>1</td>\n",
       "      <td>0</td>\n",
       "      <td>0</td>\n",
       "      <td>0</td>\n",
       "      <td>0</td>\n",
       "      <td>0</td>\n",
       "      <td>0</td>\n",
       "      <td>0</td>\n",
       "      <td>0</td>\n",
       "      <td>0</td>\n",
       "    </tr>\n",
       "    <tr>\n",
       "      <th>3</th>\n",
       "      <td>2013</td>\n",
       "      <td>66969.0</td>\n",
       "      <td>0</td>\n",
       "      <td>0</td>\n",
       "      <td>0</td>\n",
       "      <td>0</td>\n",
       "      <td>0</td>\n",
       "      <td>0</td>\n",
       "      <td>0</td>\n",
       "      <td>0</td>\n",
       "      <td>...</td>\n",
       "      <td>1</td>\n",
       "      <td>0</td>\n",
       "      <td>0</td>\n",
       "      <td>0</td>\n",
       "      <td>0</td>\n",
       "      <td>0</td>\n",
       "      <td>0</td>\n",
       "      <td>0</td>\n",
       "      <td>0</td>\n",
       "      <td>0</td>\n",
       "    </tr>\n",
       "    <tr>\n",
       "      <th>4</th>\n",
       "      <td>2014</td>\n",
       "      <td>68658.0</td>\n",
       "      <td>0</td>\n",
       "      <td>0</td>\n",
       "      <td>0</td>\n",
       "      <td>0</td>\n",
       "      <td>0</td>\n",
       "      <td>0</td>\n",
       "      <td>0</td>\n",
       "      <td>0</td>\n",
       "      <td>...</td>\n",
       "      <td>1</td>\n",
       "      <td>0</td>\n",
       "      <td>0</td>\n",
       "      <td>0</td>\n",
       "      <td>0</td>\n",
       "      <td>0</td>\n",
       "      <td>0</td>\n",
       "      <td>0</td>\n",
       "      <td>0</td>\n",
       "      <td>0</td>\n",
       "    </tr>\n",
       "  </tbody>\n",
       "</table>\n",
       "<p>5 rows × 267 columns</p>\n",
       "</div>"
      ],
      "text/plain": [
       "   Year  Base Pay  Academic Srvcs Professional Sr  \\\n",
       "0  2010   64000.0                               0   \n",
       "1  2011   64000.0                               0   \n",
       "2  2012   65229.0                               0   \n",
       "3  2013   66969.0                               0   \n",
       "4  2014   68658.0                               0   \n",
       "\n",
       "   Academic Srvcs Professonal Sr  Acting Director  \\\n",
       "0                              0                0   \n",
       "1                              0                0   \n",
       "2                              0                0   \n",
       "3                              0                0   \n",
       "4                              0                0   \n",
       "\n",
       "   Acting Director Dana Medical Library  Admin Analyst/Planner  \\\n",
       "0                                     0                      0   \n",
       "1                                     0                      0   \n",
       "2                                     0                      0   \n",
       "3                                     0                      0   \n",
       "4                                     0                      0   \n",
       "\n",
       "   Admin Analyst/Planner Sr  Admin Facilities Professnl  \\\n",
       "0                         0                           0   \n",
       "1                         0                           0   \n",
       "2                         0                           0   \n",
       "3                         0                           0   \n",
       "4                         0                           0   \n",
       "\n",
       "   Admin Leave - Former Administrator  ...  CAS  CEMS  CESS  CNHS  COM  \\\n",
       "0                                   0  ...    1     0     0     0    0   \n",
       "1                                   0  ...    1     0     0     0    0   \n",
       "2                                   0  ...    1     0     0     0    0   \n",
       "3                                   0  ...    1     0     0     0    0   \n",
       "4                                   0  ...    1     0     0     0    0   \n",
       "\n",
       "   Department of Ext  LCOMEO  Learning and Info Tech  Library  RSENR  \n",
       "0                  0       0                       0        0      0  \n",
       "1                  0       0                       0        0      0  \n",
       "2                  0       0                       0        0      0  \n",
       "3                  0       0                       0        0      0  \n",
       "4                  0       0                       0        0      0  \n",
       "\n",
       "[5 rows x 267 columns]"
      ]
     },
     "execution_count": 11,
     "metadata": {},
     "output_type": "execute_result"
    }
   ],
   "source": [
    "df1.head()"
   ]
  },
  {
   "cell_type": "code",
   "execution_count": 12,
   "id": "f9f71df4",
   "metadata": {},
   "outputs": [
    {
     "data": {
      "text/plain": [
       "Year                                int64\n",
       "Base Pay                          float64\n",
       "Academic Srvcs Professional Sr      uint8\n",
       "Academic Srvcs Professonal Sr       uint8\n",
       "Acting Director                     uint8\n",
       "                                   ...   \n",
       "Department of Ext                   uint8\n",
       "LCOMEO                              uint8\n",
       "Learning and Info Tech              uint8\n",
       "Library                             uint8\n",
       "RSENR                               uint8\n",
       "Length: 267, dtype: object"
      ]
     },
     "execution_count": 12,
     "metadata": {},
     "output_type": "execute_result"
    }
   ],
   "source": [
    "df1.dtypes"
   ]
  },
  {
   "cell_type": "markdown",
   "id": "e6feba30",
   "metadata": {},
   "source": [
    "## Train - Test Split"
   ]
  },
  {
   "cell_type": "code",
   "execution_count": 13,
   "id": "df1d905c",
   "metadata": {},
   "outputs": [
    {
     "data": {
      "text/html": [
       "<div>\n",
       "<style scoped>\n",
       "    .dataframe tbody tr th:only-of-type {\n",
       "        vertical-align: middle;\n",
       "    }\n",
       "\n",
       "    .dataframe tbody tr th {\n",
       "        vertical-align: top;\n",
       "    }\n",
       "\n",
       "    .dataframe thead th {\n",
       "        text-align: right;\n",
       "    }\n",
       "</style>\n",
       "<table border=\"1\" class=\"dataframe\">\n",
       "  <thead>\n",
       "    <tr style=\"text-align: right;\">\n",
       "      <th></th>\n",
       "      <th>Year</th>\n",
       "      <th>Academic Srvcs Professional Sr</th>\n",
       "      <th>Academic Srvcs Professonal Sr</th>\n",
       "      <th>Acting Director</th>\n",
       "      <th>Acting Director Dana Medical Library</th>\n",
       "      <th>Admin Analyst/Planner</th>\n",
       "      <th>Admin Analyst/Planner Sr</th>\n",
       "      <th>Admin Facilities Professnl</th>\n",
       "      <th>Admin Leave - Former Administrator</th>\n",
       "      <th>Admin Leave - Professor</th>\n",
       "      <th>...</th>\n",
       "      <th>CAS</th>\n",
       "      <th>CEMS</th>\n",
       "      <th>CESS</th>\n",
       "      <th>CNHS</th>\n",
       "      <th>COM</th>\n",
       "      <th>Department of Ext</th>\n",
       "      <th>LCOMEO</th>\n",
       "      <th>Learning and Info Tech</th>\n",
       "      <th>Library</th>\n",
       "      <th>RSENR</th>\n",
       "    </tr>\n",
       "  </thead>\n",
       "  <tbody>\n",
       "    <tr>\n",
       "      <th>0</th>\n",
       "      <td>2010</td>\n",
       "      <td>0</td>\n",
       "      <td>0</td>\n",
       "      <td>0</td>\n",
       "      <td>0</td>\n",
       "      <td>0</td>\n",
       "      <td>0</td>\n",
       "      <td>0</td>\n",
       "      <td>0</td>\n",
       "      <td>0</td>\n",
       "      <td>...</td>\n",
       "      <td>1</td>\n",
       "      <td>0</td>\n",
       "      <td>0</td>\n",
       "      <td>0</td>\n",
       "      <td>0</td>\n",
       "      <td>0</td>\n",
       "      <td>0</td>\n",
       "      <td>0</td>\n",
       "      <td>0</td>\n",
       "      <td>0</td>\n",
       "    </tr>\n",
       "    <tr>\n",
       "      <th>1</th>\n",
       "      <td>2011</td>\n",
       "      <td>0</td>\n",
       "      <td>0</td>\n",
       "      <td>0</td>\n",
       "      <td>0</td>\n",
       "      <td>0</td>\n",
       "      <td>0</td>\n",
       "      <td>0</td>\n",
       "      <td>0</td>\n",
       "      <td>0</td>\n",
       "      <td>...</td>\n",
       "      <td>1</td>\n",
       "      <td>0</td>\n",
       "      <td>0</td>\n",
       "      <td>0</td>\n",
       "      <td>0</td>\n",
       "      <td>0</td>\n",
       "      <td>0</td>\n",
       "      <td>0</td>\n",
       "      <td>0</td>\n",
       "      <td>0</td>\n",
       "    </tr>\n",
       "    <tr>\n",
       "      <th>2</th>\n",
       "      <td>2012</td>\n",
       "      <td>0</td>\n",
       "      <td>0</td>\n",
       "      <td>0</td>\n",
       "      <td>0</td>\n",
       "      <td>0</td>\n",
       "      <td>0</td>\n",
       "      <td>0</td>\n",
       "      <td>0</td>\n",
       "      <td>0</td>\n",
       "      <td>...</td>\n",
       "      <td>1</td>\n",
       "      <td>0</td>\n",
       "      <td>0</td>\n",
       "      <td>0</td>\n",
       "      <td>0</td>\n",
       "      <td>0</td>\n",
       "      <td>0</td>\n",
       "      <td>0</td>\n",
       "      <td>0</td>\n",
       "      <td>0</td>\n",
       "    </tr>\n",
       "    <tr>\n",
       "      <th>3</th>\n",
       "      <td>2013</td>\n",
       "      <td>0</td>\n",
       "      <td>0</td>\n",
       "      <td>0</td>\n",
       "      <td>0</td>\n",
       "      <td>0</td>\n",
       "      <td>0</td>\n",
       "      <td>0</td>\n",
       "      <td>0</td>\n",
       "      <td>0</td>\n",
       "      <td>...</td>\n",
       "      <td>1</td>\n",
       "      <td>0</td>\n",
       "      <td>0</td>\n",
       "      <td>0</td>\n",
       "      <td>0</td>\n",
       "      <td>0</td>\n",
       "      <td>0</td>\n",
       "      <td>0</td>\n",
       "      <td>0</td>\n",
       "      <td>0</td>\n",
       "    </tr>\n",
       "    <tr>\n",
       "      <th>4</th>\n",
       "      <td>2014</td>\n",
       "      <td>0</td>\n",
       "      <td>0</td>\n",
       "      <td>0</td>\n",
       "      <td>0</td>\n",
       "      <td>0</td>\n",
       "      <td>0</td>\n",
       "      <td>0</td>\n",
       "      <td>0</td>\n",
       "      <td>0</td>\n",
       "      <td>...</td>\n",
       "      <td>1</td>\n",
       "      <td>0</td>\n",
       "      <td>0</td>\n",
       "      <td>0</td>\n",
       "      <td>0</td>\n",
       "      <td>0</td>\n",
       "      <td>0</td>\n",
       "      <td>0</td>\n",
       "      <td>0</td>\n",
       "      <td>0</td>\n",
       "    </tr>\n",
       "  </tbody>\n",
       "</table>\n",
       "<p>5 rows × 266 columns</p>\n",
       "</div>"
      ],
      "text/plain": [
       "   Year  Academic Srvcs Professional Sr  Academic Srvcs Professonal Sr  \\\n",
       "0  2010                               0                              0   \n",
       "1  2011                               0                              0   \n",
       "2  2012                               0                              0   \n",
       "3  2013                               0                              0   \n",
       "4  2014                               0                              0   \n",
       "\n",
       "   Acting Director  Acting Director Dana Medical Library  \\\n",
       "0                0                                     0   \n",
       "1                0                                     0   \n",
       "2                0                                     0   \n",
       "3                0                                     0   \n",
       "4                0                                     0   \n",
       "\n",
       "   Admin Analyst/Planner  Admin Analyst/Planner Sr  \\\n",
       "0                      0                         0   \n",
       "1                      0                         0   \n",
       "2                      0                         0   \n",
       "3                      0                         0   \n",
       "4                      0                         0   \n",
       "\n",
       "   Admin Facilities Professnl  Admin Leave - Former Administrator  \\\n",
       "0                           0                                   0   \n",
       "1                           0                                   0   \n",
       "2                           0                                   0   \n",
       "3                           0                                   0   \n",
       "4                           0                                   0   \n",
       "\n",
       "   Admin Leave - Professor  ...  CAS  CEMS  CESS  CNHS  COM  \\\n",
       "0                        0  ...    1     0     0     0    0   \n",
       "1                        0  ...    1     0     0     0    0   \n",
       "2                        0  ...    1     0     0     0    0   \n",
       "3                        0  ...    1     0     0     0    0   \n",
       "4                        0  ...    1     0     0     0    0   \n",
       "\n",
       "   Department of Ext  LCOMEO  Learning and Info Tech  Library  RSENR  \n",
       "0                  0       0                       0        0      0  \n",
       "1                  0       0                       0        0      0  \n",
       "2                  0       0                       0        0      0  \n",
       "3                  0       0                       0        0      0  \n",
       "4                  0       0                       0        0      0  \n",
       "\n",
       "[5 rows x 266 columns]"
      ]
     },
     "execution_count": 13,
     "metadata": {},
     "output_type": "execute_result"
    }
   ],
   "source": [
    "X = df1.drop(['Base Pay'], axis=1)\n",
    "X.head()"
   ]
  },
  {
   "cell_type": "code",
   "execution_count": 14,
   "id": "c8ead749",
   "metadata": {},
   "outputs": [
    {
     "data": {
      "text/plain": [
       "0    64000.0\n",
       "1    64000.0\n",
       "2    65229.0\n",
       "3    66969.0\n",
       "4    68658.0\n",
       "Name: Base Pay, dtype: float64"
      ]
     },
     "execution_count": 14,
     "metadata": {},
     "output_type": "execute_result"
    }
   ],
   "source": [
    "y = df1['Base Pay']\n",
    "y.head()"
   ]
  },
  {
   "cell_type": "code",
   "execution_count": 15,
   "id": "28553e4a",
   "metadata": {},
   "outputs": [],
   "source": [
    "X_train, X_test, y_train, y_test = train_test_split(X, y, test_size=0.33, random_state=42)"
   ]
  },
  {
   "cell_type": "markdown",
   "id": "103154a6",
   "metadata": {},
   "source": [
    "## Feature Scaling : Standardizing"
   ]
  },
  {
   "cell_type": "code",
   "execution_count": 16,
   "id": "ceb6a630",
   "metadata": {},
   "outputs": [],
   "source": [
    "sc = StandardScaler()"
   ]
  },
  {
   "cell_type": "code",
   "execution_count": 17,
   "id": "234eba59",
   "metadata": {},
   "outputs": [],
   "source": [
    "X_train = sc.fit_transform(X_train)\n",
    "X_test = sc.fit_transform(X_test)"
   ]
  },
  {
   "cell_type": "code",
   "execution_count": 18,
   "id": "2a26bdc9",
   "metadata": {},
   "outputs": [
    {
     "data": {
      "text/html": [
       "<div>\n",
       "<style scoped>\n",
       "    .dataframe tbody tr th:only-of-type {\n",
       "        vertical-align: middle;\n",
       "    }\n",
       "\n",
       "    .dataframe tbody tr th {\n",
       "        vertical-align: top;\n",
       "    }\n",
       "\n",
       "    .dataframe thead th {\n",
       "        text-align: right;\n",
       "    }\n",
       "</style>\n",
       "<table border=\"1\" class=\"dataframe\">\n",
       "  <thead>\n",
       "    <tr style=\"text-align: right;\">\n",
       "      <th></th>\n",
       "      <th>Year</th>\n",
       "      <th>Academic Srvcs Professional Sr</th>\n",
       "      <th>Academic Srvcs Professonal Sr</th>\n",
       "      <th>Acting Director</th>\n",
       "      <th>Acting Director Dana Medical Library</th>\n",
       "      <th>Admin Analyst/Planner</th>\n",
       "      <th>Admin Analyst/Planner Sr</th>\n",
       "      <th>Admin Facilities Professnl</th>\n",
       "      <th>Admin Leave - Former Administrator</th>\n",
       "      <th>Admin Leave - Professor</th>\n",
       "      <th>...</th>\n",
       "      <th>CAS</th>\n",
       "      <th>CEMS</th>\n",
       "      <th>CESS</th>\n",
       "      <th>CNHS</th>\n",
       "      <th>COM</th>\n",
       "      <th>Department of Ext</th>\n",
       "      <th>LCOMEO</th>\n",
       "      <th>Learning and Info Tech</th>\n",
       "      <th>Library</th>\n",
       "      <th>RSENR</th>\n",
       "    </tr>\n",
       "  </thead>\n",
       "  <tbody>\n",
       "    <tr>\n",
       "      <th>0</th>\n",
       "      <td>-1.283773</td>\n",
       "      <td>-0.014365</td>\n",
       "      <td>-0.026882</td>\n",
       "      <td>-0.014365</td>\n",
       "      <td>0.0</td>\n",
       "      <td>-0.014365</td>\n",
       "      <td>-0.026882</td>\n",
       "      <td>-0.020317</td>\n",
       "      <td>0.0</td>\n",
       "      <td>-0.010157</td>\n",
       "      <td>...</td>\n",
       "      <td>-0.583147</td>\n",
       "      <td>-0.255489</td>\n",
       "      <td>4.183300</td>\n",
       "      <td>-0.208267</td>\n",
       "      <td>-0.937769</td>\n",
       "      <td>-0.071277</td>\n",
       "      <td>-0.033705</td>\n",
       "      <td>-0.026882</td>\n",
       "      <td>-0.108114</td>\n",
       "      <td>-0.170229</td>\n",
       "    </tr>\n",
       "    <tr>\n",
       "      <th>1</th>\n",
       "      <td>1.369346</td>\n",
       "      <td>-0.014365</td>\n",
       "      <td>-0.026882</td>\n",
       "      <td>-0.014365</td>\n",
       "      <td>0.0</td>\n",
       "      <td>-0.014365</td>\n",
       "      <td>-0.026882</td>\n",
       "      <td>-0.020317</td>\n",
       "      <td>0.0</td>\n",
       "      <td>-0.010157</td>\n",
       "      <td>...</td>\n",
       "      <td>1.714832</td>\n",
       "      <td>-0.255489</td>\n",
       "      <td>-0.239046</td>\n",
       "      <td>-0.208267</td>\n",
       "      <td>-0.937769</td>\n",
       "      <td>-0.071277</td>\n",
       "      <td>-0.033705</td>\n",
       "      <td>-0.026882</td>\n",
       "      <td>-0.108114</td>\n",
       "      <td>-0.170229</td>\n",
       "    </tr>\n",
       "    <tr>\n",
       "      <th>2</th>\n",
       "      <td>-0.104609</td>\n",
       "      <td>-0.014365</td>\n",
       "      <td>-0.026882</td>\n",
       "      <td>-0.014365</td>\n",
       "      <td>0.0</td>\n",
       "      <td>-0.014365</td>\n",
       "      <td>-0.026882</td>\n",
       "      <td>-0.020317</td>\n",
       "      <td>0.0</td>\n",
       "      <td>-0.010157</td>\n",
       "      <td>...</td>\n",
       "      <td>1.714832</td>\n",
       "      <td>-0.255489</td>\n",
       "      <td>-0.239046</td>\n",
       "      <td>-0.208267</td>\n",
       "      <td>-0.937769</td>\n",
       "      <td>-0.071277</td>\n",
       "      <td>-0.033705</td>\n",
       "      <td>-0.026882</td>\n",
       "      <td>-0.108114</td>\n",
       "      <td>-0.170229</td>\n",
       "    </tr>\n",
       "    <tr>\n",
       "      <th>3</th>\n",
       "      <td>-0.988982</td>\n",
       "      <td>-0.014365</td>\n",
       "      <td>-0.026882</td>\n",
       "      <td>-0.014365</td>\n",
       "      <td>0.0</td>\n",
       "      <td>-0.014365</td>\n",
       "      <td>-0.026882</td>\n",
       "      <td>-0.020317</td>\n",
       "      <td>0.0</td>\n",
       "      <td>-0.010157</td>\n",
       "      <td>...</td>\n",
       "      <td>-0.583147</td>\n",
       "      <td>-0.255489</td>\n",
       "      <td>-0.239046</td>\n",
       "      <td>-0.208267</td>\n",
       "      <td>1.066361</td>\n",
       "      <td>-0.071277</td>\n",
       "      <td>-0.033705</td>\n",
       "      <td>-0.026882</td>\n",
       "      <td>-0.108114</td>\n",
       "      <td>-0.170229</td>\n",
       "    </tr>\n",
       "    <tr>\n",
       "      <th>4</th>\n",
       "      <td>1.369346</td>\n",
       "      <td>-0.014365</td>\n",
       "      <td>-0.026882</td>\n",
       "      <td>-0.014365</td>\n",
       "      <td>0.0</td>\n",
       "      <td>-0.014365</td>\n",
       "      <td>-0.026882</td>\n",
       "      <td>-0.020317</td>\n",
       "      <td>0.0</td>\n",
       "      <td>-0.010157</td>\n",
       "      <td>...</td>\n",
       "      <td>-0.583147</td>\n",
       "      <td>-0.255489</td>\n",
       "      <td>-0.239046</td>\n",
       "      <td>4.801520</td>\n",
       "      <td>-0.937769</td>\n",
       "      <td>-0.071277</td>\n",
       "      <td>-0.033705</td>\n",
       "      <td>-0.026882</td>\n",
       "      <td>-0.108114</td>\n",
       "      <td>-0.170229</td>\n",
       "    </tr>\n",
       "  </tbody>\n",
       "</table>\n",
       "<p>5 rows × 266 columns</p>\n",
       "</div>"
      ],
      "text/plain": [
       "       Year  Academic Srvcs Professional Sr  Academic Srvcs Professonal Sr  \\\n",
       "0 -1.283773                       -0.014365                      -0.026882   \n",
       "1  1.369346                       -0.014365                      -0.026882   \n",
       "2 -0.104609                       -0.014365                      -0.026882   \n",
       "3 -0.988982                       -0.014365                      -0.026882   \n",
       "4  1.369346                       -0.014365                      -0.026882   \n",
       "\n",
       "   Acting Director  Acting Director Dana Medical Library  \\\n",
       "0        -0.014365                                   0.0   \n",
       "1        -0.014365                                   0.0   \n",
       "2        -0.014365                                   0.0   \n",
       "3        -0.014365                                   0.0   \n",
       "4        -0.014365                                   0.0   \n",
       "\n",
       "   Admin Analyst/Planner  Admin Analyst/Planner Sr  \\\n",
       "0              -0.014365                 -0.026882   \n",
       "1              -0.014365                 -0.026882   \n",
       "2              -0.014365                 -0.026882   \n",
       "3              -0.014365                 -0.026882   \n",
       "4              -0.014365                 -0.026882   \n",
       "\n",
       "   Admin Facilities Professnl  Admin Leave - Former Administrator  \\\n",
       "0                   -0.020317                                 0.0   \n",
       "1                   -0.020317                                 0.0   \n",
       "2                   -0.020317                                 0.0   \n",
       "3                   -0.020317                                 0.0   \n",
       "4                   -0.020317                                 0.0   \n",
       "\n",
       "   Admin Leave - Professor  ...       CAS      CEMS      CESS      CNHS  \\\n",
       "0                -0.010157  ... -0.583147 -0.255489  4.183300 -0.208267   \n",
       "1                -0.010157  ...  1.714832 -0.255489 -0.239046 -0.208267   \n",
       "2                -0.010157  ...  1.714832 -0.255489 -0.239046 -0.208267   \n",
       "3                -0.010157  ... -0.583147 -0.255489 -0.239046 -0.208267   \n",
       "4                -0.010157  ... -0.583147 -0.255489 -0.239046  4.801520   \n",
       "\n",
       "        COM  Department of Ext    LCOMEO  Learning and Info Tech   Library  \\\n",
       "0 -0.937769          -0.071277 -0.033705               -0.026882 -0.108114   \n",
       "1 -0.937769          -0.071277 -0.033705               -0.026882 -0.108114   \n",
       "2 -0.937769          -0.071277 -0.033705               -0.026882 -0.108114   \n",
       "3  1.066361          -0.071277 -0.033705               -0.026882 -0.108114   \n",
       "4 -0.937769          -0.071277 -0.033705               -0.026882 -0.108114   \n",
       "\n",
       "      RSENR  \n",
       "0 -0.170229  \n",
       "1 -0.170229  \n",
       "2 -0.170229  \n",
       "3 -0.170229  \n",
       "4 -0.170229  \n",
       "\n",
       "[5 rows x 266 columns]"
      ]
     },
     "execution_count": 18,
     "metadata": {},
     "output_type": "execute_result"
    }
   ],
   "source": [
    "X_train = pd.DataFrame(X_train, columns=X.columns)\n",
    "X_train.head()"
   ]
  },
  {
   "cell_type": "code",
   "execution_count": 19,
   "id": "48a939ff",
   "metadata": {},
   "outputs": [
    {
     "data": {
      "text/html": [
       "<div>\n",
       "<style scoped>\n",
       "    .dataframe tbody tr th:only-of-type {\n",
       "        vertical-align: middle;\n",
       "    }\n",
       "\n",
       "    .dataframe tbody tr th {\n",
       "        vertical-align: top;\n",
       "    }\n",
       "\n",
       "    .dataframe thead th {\n",
       "        text-align: right;\n",
       "    }\n",
       "</style>\n",
       "<table border=\"1\" class=\"dataframe\">\n",
       "  <thead>\n",
       "    <tr style=\"text-align: right;\">\n",
       "      <th></th>\n",
       "      <th>Year</th>\n",
       "      <th>Academic Srvcs Professional Sr</th>\n",
       "      <th>Academic Srvcs Professonal Sr</th>\n",
       "      <th>Acting Director</th>\n",
       "      <th>Acting Director Dana Medical Library</th>\n",
       "      <th>Admin Analyst/Planner</th>\n",
       "      <th>Admin Analyst/Planner Sr</th>\n",
       "      <th>Admin Facilities Professnl</th>\n",
       "      <th>Admin Leave - Former Administrator</th>\n",
       "      <th>Admin Leave - Professor</th>\n",
       "      <th>...</th>\n",
       "      <th>CAS</th>\n",
       "      <th>CEMS</th>\n",
       "      <th>CESS</th>\n",
       "      <th>CNHS</th>\n",
       "      <th>COM</th>\n",
       "      <th>Department of Ext</th>\n",
       "      <th>LCOMEO</th>\n",
       "      <th>Learning and Info Tech</th>\n",
       "      <th>Library</th>\n",
       "      <th>RSENR</th>\n",
       "    </tr>\n",
       "  </thead>\n",
       "  <tbody>\n",
       "    <tr>\n",
       "      <th>0</th>\n",
       "      <td>0.768282</td>\n",
       "      <td>0.0</td>\n",
       "      <td>-0.020468</td>\n",
       "      <td>0.0</td>\n",
       "      <td>-0.014471</td>\n",
       "      <td>0.0</td>\n",
       "      <td>-0.014471</td>\n",
       "      <td>0.0</td>\n",
       "      <td>-0.020468</td>\n",
       "      <td>0.0</td>\n",
       "      <td>...</td>\n",
       "      <td>-0.589601</td>\n",
       "      <td>-0.247179</td>\n",
       "      <td>-0.233034</td>\n",
       "      <td>4.808452</td>\n",
       "      <td>-0.919091</td>\n",
       "      <td>-0.07254</td>\n",
       "      <td>-0.014471</td>\n",
       "      <td>-0.025071</td>\n",
       "      <td>-0.111839</td>\n",
       "      <td>-0.188572</td>\n",
       "    </tr>\n",
       "    <tr>\n",
       "      <th>1</th>\n",
       "      <td>-0.731111</td>\n",
       "      <td>0.0</td>\n",
       "      <td>-0.020468</td>\n",
       "      <td>0.0</td>\n",
       "      <td>-0.014471</td>\n",
       "      <td>0.0</td>\n",
       "      <td>-0.014471</td>\n",
       "      <td>0.0</td>\n",
       "      <td>-0.020468</td>\n",
       "      <td>0.0</td>\n",
       "      <td>...</td>\n",
       "      <td>-0.589601</td>\n",
       "      <td>-0.247179</td>\n",
       "      <td>-0.233034</td>\n",
       "      <td>-0.207967</td>\n",
       "      <td>1.088032</td>\n",
       "      <td>-0.07254</td>\n",
       "      <td>-0.014471</td>\n",
       "      <td>-0.025071</td>\n",
       "      <td>-0.111839</td>\n",
       "      <td>-0.188572</td>\n",
       "    </tr>\n",
       "    <tr>\n",
       "      <th>2</th>\n",
       "      <td>-0.131354</td>\n",
       "      <td>0.0</td>\n",
       "      <td>-0.020468</td>\n",
       "      <td>0.0</td>\n",
       "      <td>-0.014471</td>\n",
       "      <td>0.0</td>\n",
       "      <td>-0.014471</td>\n",
       "      <td>0.0</td>\n",
       "      <td>-0.020468</td>\n",
       "      <td>0.0</td>\n",
       "      <td>...</td>\n",
       "      <td>-0.589601</td>\n",
       "      <td>-0.247179</td>\n",
       "      <td>-0.233034</td>\n",
       "      <td>-0.207967</td>\n",
       "      <td>1.088032</td>\n",
       "      <td>-0.07254</td>\n",
       "      <td>-0.014471</td>\n",
       "      <td>-0.025071</td>\n",
       "      <td>-0.111839</td>\n",
       "      <td>-0.188572</td>\n",
       "    </tr>\n",
       "    <tr>\n",
       "      <th>3</th>\n",
       "      <td>1.068160</td>\n",
       "      <td>0.0</td>\n",
       "      <td>-0.020468</td>\n",
       "      <td>0.0</td>\n",
       "      <td>-0.014471</td>\n",
       "      <td>0.0</td>\n",
       "      <td>-0.014471</td>\n",
       "      <td>0.0</td>\n",
       "      <td>-0.020468</td>\n",
       "      <td>0.0</td>\n",
       "      <td>...</td>\n",
       "      <td>-0.589601</td>\n",
       "      <td>4.045649</td>\n",
       "      <td>-0.233034</td>\n",
       "      <td>-0.207967</td>\n",
       "      <td>-0.919091</td>\n",
       "      <td>-0.07254</td>\n",
       "      <td>-0.014471</td>\n",
       "      <td>-0.025071</td>\n",
       "      <td>-0.111839</td>\n",
       "      <td>-0.188572</td>\n",
       "    </tr>\n",
       "    <tr>\n",
       "      <th>4</th>\n",
       "      <td>-0.431232</td>\n",
       "      <td>0.0</td>\n",
       "      <td>-0.020468</td>\n",
       "      <td>0.0</td>\n",
       "      <td>-0.014471</td>\n",
       "      <td>0.0</td>\n",
       "      <td>-0.014471</td>\n",
       "      <td>0.0</td>\n",
       "      <td>-0.020468</td>\n",
       "      <td>0.0</td>\n",
       "      <td>...</td>\n",
       "      <td>-0.589601</td>\n",
       "      <td>-0.247179</td>\n",
       "      <td>-0.233034</td>\n",
       "      <td>-0.207967</td>\n",
       "      <td>1.088032</td>\n",
       "      <td>-0.07254</td>\n",
       "      <td>-0.014471</td>\n",
       "      <td>-0.025071</td>\n",
       "      <td>-0.111839</td>\n",
       "      <td>-0.188572</td>\n",
       "    </tr>\n",
       "  </tbody>\n",
       "</table>\n",
       "<p>5 rows × 266 columns</p>\n",
       "</div>"
      ],
      "text/plain": [
       "       Year  Academic Srvcs Professional Sr  Academic Srvcs Professonal Sr  \\\n",
       "0  0.768282                             0.0                      -0.020468   \n",
       "1 -0.731111                             0.0                      -0.020468   \n",
       "2 -0.131354                             0.0                      -0.020468   \n",
       "3  1.068160                             0.0                      -0.020468   \n",
       "4 -0.431232                             0.0                      -0.020468   \n",
       "\n",
       "   Acting Director  Acting Director Dana Medical Library  \\\n",
       "0              0.0                             -0.014471   \n",
       "1              0.0                             -0.014471   \n",
       "2              0.0                             -0.014471   \n",
       "3              0.0                             -0.014471   \n",
       "4              0.0                             -0.014471   \n",
       "\n",
       "   Admin Analyst/Planner  Admin Analyst/Planner Sr  \\\n",
       "0                    0.0                 -0.014471   \n",
       "1                    0.0                 -0.014471   \n",
       "2                    0.0                 -0.014471   \n",
       "3                    0.0                 -0.014471   \n",
       "4                    0.0                 -0.014471   \n",
       "\n",
       "   Admin Facilities Professnl  Admin Leave - Former Administrator  \\\n",
       "0                         0.0                           -0.020468   \n",
       "1                         0.0                           -0.020468   \n",
       "2                         0.0                           -0.020468   \n",
       "3                         0.0                           -0.020468   \n",
       "4                         0.0                           -0.020468   \n",
       "\n",
       "   Admin Leave - Professor  ...       CAS      CEMS      CESS      CNHS  \\\n",
       "0                      0.0  ... -0.589601 -0.247179 -0.233034  4.808452   \n",
       "1                      0.0  ... -0.589601 -0.247179 -0.233034 -0.207967   \n",
       "2                      0.0  ... -0.589601 -0.247179 -0.233034 -0.207967   \n",
       "3                      0.0  ... -0.589601  4.045649 -0.233034 -0.207967   \n",
       "4                      0.0  ... -0.589601 -0.247179 -0.233034 -0.207967   \n",
       "\n",
       "        COM  Department of Ext    LCOMEO  Learning and Info Tech   Library  \\\n",
       "0 -0.919091           -0.07254 -0.014471               -0.025071 -0.111839   \n",
       "1  1.088032           -0.07254 -0.014471               -0.025071 -0.111839   \n",
       "2  1.088032           -0.07254 -0.014471               -0.025071 -0.111839   \n",
       "3 -0.919091           -0.07254 -0.014471               -0.025071 -0.111839   \n",
       "4  1.088032           -0.07254 -0.014471               -0.025071 -0.111839   \n",
       "\n",
       "      RSENR  \n",
       "0 -0.188572  \n",
       "1 -0.188572  \n",
       "2 -0.188572  \n",
       "3 -0.188572  \n",
       "4 -0.188572  \n",
       "\n",
       "[5 rows x 266 columns]"
      ]
     },
     "execution_count": 19,
     "metadata": {},
     "output_type": "execute_result"
    }
   ],
   "source": [
    "X_test = pd.DataFrame(X_test, columns=X.columns)\n",
    "X_test.head()"
   ]
  },
  {
   "cell_type": "markdown",
   "id": "c0daea59",
   "metadata": {},
   "source": [
    "## Training"
   ]
  },
  {
   "cell_type": "markdown",
   "id": "52f03b29",
   "metadata": {},
   "source": [
    "## Linear Regression"
   ]
  },
  {
   "cell_type": "code",
   "execution_count": 20,
   "id": "bfbf1cfc",
   "metadata": {},
   "outputs": [],
   "source": [
    "lr = LinearRegression()"
   ]
  },
  {
   "cell_type": "code",
   "execution_count": 21,
   "id": "e871e9c2",
   "metadata": {},
   "outputs": [
    {
     "data": {
      "text/plain": [
       "LinearRegression()"
      ]
     },
     "execution_count": 21,
     "metadata": {},
     "output_type": "execute_result"
    }
   ],
   "source": [
    "lr.fit(X_train, y_train)"
   ]
  },
  {
   "cell_type": "code",
   "execution_count": 22,
   "id": "ebc66d46",
   "metadata": {},
   "outputs": [
    {
     "data": {
      "text/plain": [
       "-2.8405926914640654e+26"
      ]
     },
     "execution_count": 22,
     "metadata": {},
     "output_type": "execute_result"
    }
   ],
   "source": [
    "lr.score(X_test, y_test)"
   ]
  },
  {
   "cell_type": "code",
   "execution_count": 23,
   "id": "333fbc50",
   "metadata": {},
   "outputs": [],
   "source": [
    "y_pred = lr.predict(X_test)"
   ]
  },
  {
   "cell_type": "code",
   "execution_count": 24,
   "id": "6c7122a0",
   "metadata": {},
   "outputs": [],
   "source": [
    "from sklearn.metrics import mean_squared_error"
   ]
  },
  {
   "cell_type": "code",
   "execution_count": 25,
   "id": "a4f1669f",
   "metadata": {},
   "outputs": [
    {
     "data": {
      "text/plain": [
       "6.3163164804034216e+35"
      ]
     },
     "execution_count": 25,
     "metadata": {},
     "output_type": "execute_result"
    }
   ],
   "source": [
    "mean_squared_error(y_test, y_pred)"
   ]
  },
  {
   "cell_type": "markdown",
   "id": "75510eee",
   "metadata": {},
   "source": [
    "## Linear Regression using Ridge Regularizer"
   ]
  },
  {
   "cell_type": "code",
   "execution_count": 26,
   "id": "39359f9a",
   "metadata": {},
   "outputs": [],
   "source": [
    "ridge = Ridge()"
   ]
  },
  {
   "cell_type": "markdown",
   "id": "5fe1a523",
   "metadata": {},
   "source": [
    "## Hyperparameter Tuning"
   ]
  },
  {
   "cell_type": "code",
   "execution_count": 27,
   "id": "e8a12148",
   "metadata": {},
   "outputs": [],
   "source": [
    "params = {\n",
    "    'alpha' : [1.0, 1.3, 1.5, 2.0, 2.5]\n",
    "}"
   ]
  },
  {
   "cell_type": "code",
   "execution_count": 28,
   "id": "818e13ae",
   "metadata": {},
   "outputs": [],
   "source": [
    "grid = GridSearchCV(ridge, param_grid=params, n_jobs=1, cv=5)"
   ]
  },
  {
   "cell_type": "code",
   "execution_count": 29,
   "id": "f4a487ea",
   "metadata": {},
   "outputs": [
    {
     "data": {
      "text/plain": [
       "GridSearchCV(cv=5, estimator=Ridge(), n_jobs=1,\n",
       "             param_grid={'alpha': [1.0, 1.3, 1.5, 2.0, 2.5]})"
      ]
     },
     "execution_count": 29,
     "metadata": {},
     "output_type": "execute_result"
    }
   ],
   "source": [
    "grid.fit(X_train, y_train)"
   ]
  },
  {
   "cell_type": "code",
   "execution_count": 30,
   "id": "4cb11ad3",
   "metadata": {},
   "outputs": [
    {
     "data": {
      "text/plain": [
       "Ridge(alpha=2.5)"
      ]
     },
     "execution_count": 30,
     "metadata": {},
     "output_type": "execute_result"
    }
   ],
   "source": [
    "grid.best_estimator_"
   ]
  },
  {
   "cell_type": "code",
   "execution_count": 31,
   "id": "530cfcfb",
   "metadata": {},
   "outputs": [
    {
     "data": {
      "text/plain": [
       "0.6270202937526"
      ]
     },
     "execution_count": 31,
     "metadata": {},
     "output_type": "execute_result"
    }
   ],
   "source": [
    "# The model will be trained with the best value of alpha which is 2.5\n",
    "grid.score(X_test, y_test)"
   ]
  },
  {
   "cell_type": "markdown",
   "id": "c329cb2b",
   "metadata": {},
   "source": [
    "## Summary\n",
    "\n",
    "### It is clear that using Ridge Regularizer with Linear Regression model gives us dramatically better results than using just a Linear Regression model"
   ]
  },
  {
   "cell_type": "markdown",
   "id": "77538702",
   "metadata": {},
   "source": [
    "-------------------------------------------------------------------------------------------------------------------------------"
   ]
  },
  {
   "cell_type": "markdown",
   "id": "43a30207",
   "metadata": {},
   "source": [
    "## Part 2\n",
    "\n",
    "## Using sklearn Pipeline"
   ]
  },
  {
   "cell_type": "code",
   "execution_count": 32,
   "id": "a98f4358",
   "metadata": {},
   "outputs": [],
   "source": [
    "from sklearn.pipeline import Pipeline\n",
    "from sklearn.compose import ColumnTransformer"
   ]
  },
  {
   "cell_type": "code",
   "execution_count": 33,
   "id": "a406bf2f",
   "metadata": {},
   "outputs": [
    {
     "data": {
      "text/html": [
       "<div>\n",
       "<style scoped>\n",
       "    .dataframe tbody tr th:only-of-type {\n",
       "        vertical-align: middle;\n",
       "    }\n",
       "\n",
       "    .dataframe tbody tr th {\n",
       "        vertical-align: top;\n",
       "    }\n",
       "\n",
       "    .dataframe thead th {\n",
       "        text-align: right;\n",
       "    }\n",
       "</style>\n",
       "<table border=\"1\" class=\"dataframe\">\n",
       "  <thead>\n",
       "    <tr style=\"text-align: right;\">\n",
       "      <th></th>\n",
       "      <th>Year</th>\n",
       "      <th>Name</th>\n",
       "      <th>Primary Job Title</th>\n",
       "      <th>Base Pay</th>\n",
       "      <th>Department</th>\n",
       "      <th>College</th>\n",
       "    </tr>\n",
       "  </thead>\n",
       "  <tbody>\n",
       "    <tr>\n",
       "      <th>0</th>\n",
       "      <td>2010</td>\n",
       "      <td>Abaied, Jamie L.</td>\n",
       "      <td>Assistant Professor</td>\n",
       "      <td>64000.0</td>\n",
       "      <td>Department of Psychological Science</td>\n",
       "      <td>CAS</td>\n",
       "    </tr>\n",
       "    <tr>\n",
       "      <th>1</th>\n",
       "      <td>2011</td>\n",
       "      <td>Abaied, Jamie L.</td>\n",
       "      <td>Assistant Professor</td>\n",
       "      <td>64000.0</td>\n",
       "      <td>Department of Psychological Science</td>\n",
       "      <td>CAS</td>\n",
       "    </tr>\n",
       "    <tr>\n",
       "      <th>2</th>\n",
       "      <td>2012</td>\n",
       "      <td>Abaied, Jamie L.</td>\n",
       "      <td>Assistant Professor</td>\n",
       "      <td>65229.0</td>\n",
       "      <td>Department of Psychological Science</td>\n",
       "      <td>CAS</td>\n",
       "    </tr>\n",
       "    <tr>\n",
       "      <th>3</th>\n",
       "      <td>2013</td>\n",
       "      <td>Abaied, Jamie L.</td>\n",
       "      <td>Assistant Professor</td>\n",
       "      <td>66969.0</td>\n",
       "      <td>Department of Psychological Science</td>\n",
       "      <td>CAS</td>\n",
       "    </tr>\n",
       "    <tr>\n",
       "      <th>4</th>\n",
       "      <td>2014</td>\n",
       "      <td>Abaied, Jamie L.</td>\n",
       "      <td>Assistant Professor</td>\n",
       "      <td>68658.0</td>\n",
       "      <td>Department of Psychological Science</td>\n",
       "      <td>CAS</td>\n",
       "    </tr>\n",
       "  </tbody>\n",
       "</table>\n",
       "</div>"
      ],
      "text/plain": [
       "   Year              Name    Primary Job Title  Base Pay  \\\n",
       "0  2010  Abaied, Jamie L.  Assistant Professor   64000.0   \n",
       "1  2011  Abaied, Jamie L.  Assistant Professor   64000.0   \n",
       "2  2012  Abaied, Jamie L.  Assistant Professor   65229.0   \n",
       "3  2013  Abaied, Jamie L.  Assistant Professor   66969.0   \n",
       "4  2014  Abaied, Jamie L.  Assistant Professor   68658.0   \n",
       "\n",
       "                            Department College  \n",
       "0  Department of Psychological Science     CAS  \n",
       "1  Department of Psychological Science     CAS  \n",
       "2  Department of Psychological Science     CAS  \n",
       "3  Department of Psychological Science     CAS  \n",
       "4  Department of Psychological Science     CAS  "
      ]
     },
     "execution_count": 33,
     "metadata": {},
     "output_type": "execute_result"
    }
   ],
   "source": [
    "df2 = df.copy()\n",
    "df2.head()"
   ]
  },
  {
   "cell_type": "code",
   "execution_count": 34,
   "id": "84668a59",
   "metadata": {},
   "outputs": [],
   "source": [
    "df2.drop(['Name'], axis=1, inplace=True)"
   ]
  },
  {
   "cell_type": "code",
   "execution_count": 35,
   "id": "1d85e8f8",
   "metadata": {},
   "outputs": [
    {
     "data": {
      "text/html": [
       "<div>\n",
       "<style scoped>\n",
       "    .dataframe tbody tr th:only-of-type {\n",
       "        vertical-align: middle;\n",
       "    }\n",
       "\n",
       "    .dataframe tbody tr th {\n",
       "        vertical-align: top;\n",
       "    }\n",
       "\n",
       "    .dataframe thead th {\n",
       "        text-align: right;\n",
       "    }\n",
       "</style>\n",
       "<table border=\"1\" class=\"dataframe\">\n",
       "  <thead>\n",
       "    <tr style=\"text-align: right;\">\n",
       "      <th></th>\n",
       "      <th>Year</th>\n",
       "      <th>Primary Job Title</th>\n",
       "      <th>Base Pay</th>\n",
       "      <th>Department</th>\n",
       "      <th>College</th>\n",
       "    </tr>\n",
       "  </thead>\n",
       "  <tbody>\n",
       "    <tr>\n",
       "      <th>0</th>\n",
       "      <td>2010</td>\n",
       "      <td>Assistant Professor</td>\n",
       "      <td>64000.0</td>\n",
       "      <td>Department of Psychological Science</td>\n",
       "      <td>CAS</td>\n",
       "    </tr>\n",
       "    <tr>\n",
       "      <th>1</th>\n",
       "      <td>2011</td>\n",
       "      <td>Assistant Professor</td>\n",
       "      <td>64000.0</td>\n",
       "      <td>Department of Psychological Science</td>\n",
       "      <td>CAS</td>\n",
       "    </tr>\n",
       "    <tr>\n",
       "      <th>2</th>\n",
       "      <td>2012</td>\n",
       "      <td>Assistant Professor</td>\n",
       "      <td>65229.0</td>\n",
       "      <td>Department of Psychological Science</td>\n",
       "      <td>CAS</td>\n",
       "    </tr>\n",
       "    <tr>\n",
       "      <th>3</th>\n",
       "      <td>2013</td>\n",
       "      <td>Assistant Professor</td>\n",
       "      <td>66969.0</td>\n",
       "      <td>Department of Psychological Science</td>\n",
       "      <td>CAS</td>\n",
       "    </tr>\n",
       "    <tr>\n",
       "      <th>4</th>\n",
       "      <td>2014</td>\n",
       "      <td>Assistant Professor</td>\n",
       "      <td>68658.0</td>\n",
       "      <td>Department of Psychological Science</td>\n",
       "      <td>CAS</td>\n",
       "    </tr>\n",
       "  </tbody>\n",
       "</table>\n",
       "</div>"
      ],
      "text/plain": [
       "   Year    Primary Job Title  Base Pay                           Department  \\\n",
       "0  2010  Assistant Professor   64000.0  Department of Psychological Science   \n",
       "1  2011  Assistant Professor   64000.0  Department of Psychological Science   \n",
       "2  2012  Assistant Professor   65229.0  Department of Psychological Science   \n",
       "3  2013  Assistant Professor   66969.0  Department of Psychological Science   \n",
       "4  2014  Assistant Professor   68658.0  Department of Psychological Science   \n",
       "\n",
       "  College  \n",
       "0     CAS  \n",
       "1     CAS  \n",
       "2     CAS  \n",
       "3     CAS  \n",
       "4     CAS  "
      ]
     },
     "execution_count": 35,
     "metadata": {},
     "output_type": "execute_result"
    }
   ],
   "source": [
    "df2.head()"
   ]
  },
  {
   "cell_type": "code",
   "execution_count": 36,
   "id": "5b923dfd",
   "metadata": {},
   "outputs": [],
   "source": [
    "X2 = df2.copy()\n",
    "X2 = df2.drop(['Base Pay'], axis=1)"
   ]
  },
  {
   "cell_type": "code",
   "execution_count": 37,
   "id": "4641ae0b",
   "metadata": {},
   "outputs": [
    {
     "data": {
      "text/html": [
       "<div>\n",
       "<style scoped>\n",
       "    .dataframe tbody tr th:only-of-type {\n",
       "        vertical-align: middle;\n",
       "    }\n",
       "\n",
       "    .dataframe tbody tr th {\n",
       "        vertical-align: top;\n",
       "    }\n",
       "\n",
       "    .dataframe thead th {\n",
       "        text-align: right;\n",
       "    }\n",
       "</style>\n",
       "<table border=\"1\" class=\"dataframe\">\n",
       "  <thead>\n",
       "    <tr style=\"text-align: right;\">\n",
       "      <th></th>\n",
       "      <th>Year</th>\n",
       "      <th>Primary Job Title</th>\n",
       "      <th>Department</th>\n",
       "      <th>College</th>\n",
       "    </tr>\n",
       "  </thead>\n",
       "  <tbody>\n",
       "    <tr>\n",
       "      <th>0</th>\n",
       "      <td>2010</td>\n",
       "      <td>Assistant Professor</td>\n",
       "      <td>Department of Psychological Science</td>\n",
       "      <td>CAS</td>\n",
       "    </tr>\n",
       "    <tr>\n",
       "      <th>1</th>\n",
       "      <td>2011</td>\n",
       "      <td>Assistant Professor</td>\n",
       "      <td>Department of Psychological Science</td>\n",
       "      <td>CAS</td>\n",
       "    </tr>\n",
       "    <tr>\n",
       "      <th>2</th>\n",
       "      <td>2012</td>\n",
       "      <td>Assistant Professor</td>\n",
       "      <td>Department of Psychological Science</td>\n",
       "      <td>CAS</td>\n",
       "    </tr>\n",
       "    <tr>\n",
       "      <th>3</th>\n",
       "      <td>2013</td>\n",
       "      <td>Assistant Professor</td>\n",
       "      <td>Department of Psychological Science</td>\n",
       "      <td>CAS</td>\n",
       "    </tr>\n",
       "    <tr>\n",
       "      <th>4</th>\n",
       "      <td>2014</td>\n",
       "      <td>Assistant Professor</td>\n",
       "      <td>Department of Psychological Science</td>\n",
       "      <td>CAS</td>\n",
       "    </tr>\n",
       "  </tbody>\n",
       "</table>\n",
       "</div>"
      ],
      "text/plain": [
       "   Year    Primary Job Title                           Department College\n",
       "0  2010  Assistant Professor  Department of Psychological Science     CAS\n",
       "1  2011  Assistant Professor  Department of Psychological Science     CAS\n",
       "2  2012  Assistant Professor  Department of Psychological Science     CAS\n",
       "3  2013  Assistant Professor  Department of Psychological Science     CAS\n",
       "4  2014  Assistant Professor  Department of Psychological Science     CAS"
      ]
     },
     "execution_count": 37,
     "metadata": {},
     "output_type": "execute_result"
    }
   ],
   "source": [
    "X2.head()"
   ]
  },
  {
   "cell_type": "code",
   "execution_count": 38,
   "id": "3969f288",
   "metadata": {},
   "outputs": [
    {
     "data": {
      "text/plain": [
       "0    64000.0\n",
       "1    64000.0\n",
       "2    65229.0\n",
       "3    66969.0\n",
       "4    68658.0\n",
       "Name: Base Pay, dtype: float64"
      ]
     },
     "execution_count": 38,
     "metadata": {},
     "output_type": "execute_result"
    }
   ],
   "source": [
    "y = df2['Base Pay']\n",
    "y.head()"
   ]
  },
  {
   "cell_type": "markdown",
   "id": "d04f03e4",
   "metadata": {},
   "source": [
    "### Creating Pipelines"
   ]
  },
  {
   "cell_type": "code",
   "execution_count": 39,
   "id": "83c1ffae",
   "metadata": {},
   "outputs": [],
   "source": [
    "cont_features = ['Year']\n",
    "cat_features = ['Primary Job Title', 'Department', 'College']"
   ]
  },
  {
   "cell_type": "code",
   "execution_count": 40,
   "id": "ed10c61a",
   "metadata": {},
   "outputs": [],
   "source": [
    "# Pipeline for continuous features\n",
    "\n",
    "cont_pipeline = Pipeline([\n",
    "    ('scaler', StandardScaler())\n",
    "])\n",
    "\n",
    "# Pipeline for categorical features\n",
    "\n",
    "cat_pipeline = Pipeline([\n",
    "    ('onehot', OneHotEncoder(sparse=False, handle_unknown='ignore'))\n",
    "]) # Using drop = 'first' threw error because of handle_unknown='ignore'"
   ]
  },
  {
   "cell_type": "code",
   "execution_count": 41,
   "id": "15a4e8c9",
   "metadata": {},
   "outputs": [],
   "source": [
    "# Final Preprocessed Pipeline\n",
    "\n",
    "preprocess_pipeline = ColumnTransformer([\n",
    "    ('continuous', cont_pipeline, cont_features),\n",
    "    ('categorical', cat_pipeline, cat_features)\n",
    "], remainder='passthrough')"
   ]
  },
  {
   "cell_type": "code",
   "execution_count": 42,
   "id": "30e1d9e7",
   "metadata": {},
   "outputs": [],
   "source": [
    "X_preprocessed = preprocess_pipeline.fit_transform(X2)"
   ]
  },
  {
   "cell_type": "code",
   "execution_count": 43,
   "id": "74dc1cf5",
   "metadata": {
    "scrolled": true
   },
   "outputs": [
    {
     "data": {
      "text/plain": [
       "array([[-1.59543219,  0.        ,  0.        , ...,  0.        ,\n",
       "         0.        ,  0.        ],\n",
       "       [-1.29901064,  0.        ,  0.        , ...,  0.        ,\n",
       "         0.        ,  0.        ],\n",
       "       [-1.00258908,  0.        ,  0.        , ...,  0.        ,\n",
       "         0.        ,  0.        ],\n",
       "       ...,\n",
       "       [ 0.77594028,  0.        ,  0.        , ...,  0.        ,\n",
       "         0.        ,  0.        ],\n",
       "       [ 1.07236184,  0.        ,  0.        , ...,  0.        ,\n",
       "         0.        ,  0.        ],\n",
       "       [ 1.3687834 ,  0.        ,  0.        , ...,  0.        ,\n",
       "         0.        ,  0.        ]])"
      ]
     },
     "execution_count": 43,
     "metadata": {},
     "output_type": "execute_result"
    }
   ],
   "source": [
    "X_preprocessed"
   ]
  },
  {
   "cell_type": "code",
   "execution_count": 44,
   "id": "3e5dccbe",
   "metadata": {},
   "outputs": [],
   "source": [
    "X_train, X_test, y_train, y_test = train_test_split(X_preprocessed, y, test_size=0.33, random_state=0)"
   ]
  },
  {
   "cell_type": "code",
   "execution_count": 45,
   "id": "888c08c0",
   "metadata": {},
   "outputs": [],
   "source": [
    "ridge2 = Ridge()"
   ]
  },
  {
   "cell_type": "code",
   "execution_count": 46,
   "id": "986187c9",
   "metadata": {},
   "outputs": [],
   "source": [
    "params = {\n",
    "    'alpha' : [1.0, 1.3, 1.5, 2.0, 2.5]\n",
    "}"
   ]
  },
  {
   "cell_type": "code",
   "execution_count": 47,
   "id": "e5408536",
   "metadata": {},
   "outputs": [],
   "source": [
    "grid2 = GridSearchCV(ridge2, param_grid=params, n_jobs=1, cv=5)"
   ]
  },
  {
   "cell_type": "code",
   "execution_count": 48,
   "id": "8cc6119b",
   "metadata": {},
   "outputs": [
    {
     "data": {
      "text/plain": [
       "GridSearchCV(cv=5, estimator=Ridge(), n_jobs=1,\n",
       "             param_grid={'alpha': [1.0, 1.3, 1.5, 2.0, 2.5]})"
      ]
     },
     "execution_count": 48,
     "metadata": {},
     "output_type": "execute_result"
    }
   ],
   "source": [
    "grid2.fit(X_train, y_train)"
   ]
  },
  {
   "cell_type": "code",
   "execution_count": 49,
   "id": "f6b387da",
   "metadata": {},
   "outputs": [
    {
     "data": {
      "text/plain": [
       "0.5984523699292518"
      ]
     },
     "execution_count": 49,
     "metadata": {},
     "output_type": "execute_result"
    }
   ],
   "source": [
    "# The model will be trained with the best value of alpha which is 2.5\n",
    "grid2.score(X_test, y_test)"
   ]
  },
  {
   "cell_type": "code",
   "execution_count": 50,
   "id": "7eb240c6",
   "metadata": {},
   "outputs": [
    {
     "data": {
      "text/plain": [
       "{'alpha': 1.0}"
      ]
     },
     "execution_count": 50,
     "metadata": {},
     "output_type": "execute_result"
    }
   ],
   "source": [
    "grid2.best_params_"
   ]
  },
  {
   "cell_type": "code",
   "execution_count": 51,
   "id": "db792935",
   "metadata": {},
   "outputs": [],
   "source": [
    "score = cross_val_score(grid2, X_preprocessed, y, cv=10)"
   ]
  },
  {
   "cell_type": "code",
   "execution_count": 52,
   "id": "b02ff4f0",
   "metadata": {},
   "outputs": [
    {
     "data": {
      "text/plain": [
       "array([0.55456138, 0.62059348, 0.57427439, 0.50679336, 0.44208033,\n",
       "       0.45081681, 0.4780654 , 0.50915747, 0.48290192, 0.55466507])"
      ]
     },
     "execution_count": 52,
     "metadata": {},
     "output_type": "execute_result"
    }
   ],
   "source": [
    "score"
   ]
  },
  {
   "cell_type": "code",
   "execution_count": 53,
   "id": "83270612",
   "metadata": {
    "scrolled": true
   },
   "outputs": [
    {
     "data": {
      "text/plain": [
       "0.5173909609226672"
      ]
     },
     "execution_count": 53,
     "metadata": {},
     "output_type": "execute_result"
    }
   ],
   "source": [
    "score.mean()"
   ]
  }
 ],
 "metadata": {
  "kernelspec": {
   "display_name": "Python 3",
   "language": "python",
   "name": "python3"
  },
  "language_info": {
   "codemirror_mode": {
    "name": "ipython",
    "version": 3
   },
   "file_extension": ".py",
   "mimetype": "text/x-python",
   "name": "python",
   "nbconvert_exporter": "python",
   "pygments_lexer": "ipython3",
   "version": "3.7.10"
  }
 },
 "nbformat": 4,
 "nbformat_minor": 5
}
